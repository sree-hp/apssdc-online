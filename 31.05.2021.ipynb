{
 "cells": [
  {
   "cell_type": "code",
   "execution_count": 11,
   "id": "4cc24d1f",
   "metadata": {},
   "outputs": [
    {
     "name": "stdout",
     "output_type": "stream",
     "text": [
      "good afternoon\n",
      "14\n",
      "t\n",
      "t\n"
     ]
    }
   ],
   "source": [
    "s2=\"good afternoon\"\n",
    "print(s2)\n",
    "print(len(s2))\n",
    "print(s2[7])\n",
    "print(s2[len(s2)//2])"
   ]
  },
  {
   "cell_type": "code",
   "execution_count": 12,
   "id": "51552556",
   "metadata": {},
   "outputs": [
    {
     "name": "stdout",
     "output_type": "stream",
     "text": [
      "['__add__', '__class__', '__contains__', '__delattr__', '__dir__', '__doc__', '__eq__', '__format__', '__ge__', '__getattribute__', '__getitem__', '__getnewargs__', '__gt__', '__hash__', '__init__', '__init_subclass__', '__iter__', '__le__', '__len__', '__lt__', '__mod__', '__mul__', '__ne__', '__new__', '__reduce__', '__reduce_ex__', '__repr__', '__rmod__', '__rmul__', '__setattr__', '__sizeof__', '__str__', '__subclasshook__', 'capitalize', 'casefold', 'center', 'count', 'encode', 'endswith', 'expandtabs', 'find', 'format', 'format_map', 'index', 'isalnum', 'isalpha', 'isascii', 'isdecimal', 'isdigit', 'isidentifier', 'islower', 'isnumeric', 'isprintable', 'isspace', 'istitle', 'isupper', 'join', 'ljust', 'lower', 'lstrip', 'maketrans', 'partition', 'replace', 'rfind', 'rindex', 'rjust', 'rpartition', 'rsplit', 'rstrip', 'split', 'splitlines', 'startswith', 'strip', 'swapcase', 'title', 'translate', 'upper', 'zfill']\n"
     ]
    }
   ],
   "source": [
    "print(dir(s2))"
   ]
  },
  {
   "cell_type": "code",
   "execution_count": 16,
   "id": "da1438c7",
   "metadata": {},
   "outputs": [
    {
     "name": "stdout",
     "output_type": "stream",
     "text": [
      "GoodAfternoon\n",
      "False\n"
     ]
    }
   ],
   "source": [
    "a=\"Good\"\n",
    "b=\"Afternoon\"\n",
    "c=a.__add__(b) # addition\n",
    "print(c)\n",
    "d=a.__eq__(b) # equal\n",
    "print(d)        "
   ]
  },
  {
   "cell_type": "code",
   "execution_count": 26,
   "id": "9323c79c",
   "metadata": {},
   "outputs": [
    {
     "name": "stdout",
     "output_type": "stream",
     "text": [
      "['Good', 'afternoon', 'every', 'one', 'from', 'vignan']\n",
      "['hav', ' a gr', 'at day']\n",
      "g&o&o&d& &a&f&t&e&r&n&o&o&n\n",
      "good-afternoon\n"
     ]
    }
   ],
   "source": [
    "s1=\"Good afternoon every one from vignan\"\n",
    "s2=s1.split()\n",
    "print(s2)\n",
    "\n",
    "se=\"have a great day\"\n",
    "sr=se.split('e')\n",
    "print(sr)\n",
    "\n",
    "sn=\"good afternoon\"\n",
    "sl=sn.split()\n",
    "sm=\"&\".join(sn)\n",
    "sa=\"-\".join(sl)\n",
    "print(sm)\n",
    "print(sa)"
   ]
  },
  {
   "cell_type": "code",
   "execution_count": 23,
   "id": "b7fcf3b7",
   "metadata": {},
   "outputs": [
    {
     "name": "stdout",
     "output_type": "stream",
     "text": [
      "gafternoonoafternoonoafternoond\n"
     ]
    }
   ],
   "source": [
    "sl1=\"good\"\n",
    "sl2=\"afternoon\".join(sl1)\n",
    "print(sl2)"
   ]
  },
  {
   "cell_type": "code",
   "execution_count": 28,
   "id": "52a92664",
   "metadata": {},
   "outputs": [
    {
     "name": "stdout",
     "output_type": "stream",
     "text": [
      "Vignan CollEgE of EnginEEring\n"
     ]
    }
   ],
   "source": [
    "h1=\"Vignan College of Engineering\"\n",
    "h2=h1.replace('e',\"E\")\n",
    "print(h2)"
   ]
  },
  {
   "cell_type": "code",
   "execution_count": 12,
   "id": "57a6871b",
   "metadata": {},
   "outputs": [
    {
     "name": "stdout",
     "output_type": "stream",
     "text": [
      "123\n",
      "not a palindrome\n"
     ]
    }
   ],
   "source": [
    "# palindrome\n",
    "st=input()\n",
    "str=st[::-1]\n",
    "if st==str:\n",
    "    print(\"palindrome number\")\n",
    "else: \n",
    "    print(\"not a palindrome\")"
   ]
  },
  {
   "cell_type": "code",
   "execution_count": 14,
   "id": "1176c02a",
   "metadata": {},
   "outputs": [
    {
     "name": "stdout",
     "output_type": "stream",
     "text": [
      "Enter a number:121\n",
      "Not a palindrome!\n",
      "Not a palindrome!\n",
      "The number is palindrome!\n"
     ]
    }
   ],
   "source": [
    "num=int(input(\"Enter a number:\"))\n",
    "temp=num\n",
    "rev=0\n",
    "while(num>0):\n",
    "    dig=num%10\n",
    "    rev=rev*10+dig\n",
    "    num=num//10\n",
    "    if(temp==rev):\n",
    "        print(\"The number is palindrome!\")\n",
    "    else:\n",
    "            print(\"Not a palindrome!\")"
   ]
  },
  {
   "cell_type": "code",
   "execution_count": 25,
   "id": "366c5aa5",
   "metadata": {},
   "outputs": [
    {
     "name": "stdout",
     "output_type": "stream",
     "text": [
      "alphabets  GoodMorningHelloWorldByeBye\n",
      "even numbers  24680\n",
      "odd numbers  13579\n"
     ]
    }
   ],
   "source": [
    "# seperate alphabets,even numbers and odd numbers\n",
    "# task2=\"GoodMorningHelloWorldByeBye1234567890\"\n",
    "str1=\"GoodMorningHelloWorldByeBye1234567890\"\n",
    "a=\" \"\n",
    "odd=\" \"\n",
    "even=\" \"\n",
    "for i in str1:\n",
    "    if i.isalpha():\n",
    "        a+=i\n",
    "    elif int(i)%2==0:\n",
    "        even+=i\n",
    "    else:\n",
    "            odd+=i\n",
    "print(\"alphabets\",a)\n",
    "print(\"even numbers\",even)\n",
    "print(\"odd numbers\",odd)"
   ]
  },
  {
   "cell_type": "code",
   "execution_count": 26,
   "id": "cad0058d",
   "metadata": {},
   "outputs": [
    {
     "name": "stdout",
     "output_type": "stream",
     "text": [
      "alphabets in given string  abcdefghi\n",
      "even numbers  246\n",
      "odd numbers  135\n"
     ]
    }
   ],
   "source": [
    "# seperate alphabets,even numbers,odd numbers\n",
    "vignan=\"abc123def456ghi\"\n",
    "ab=\" \"\n",
    "ev=\" \"\n",
    "od=\" \"\n",
    "for i in vignan:\n",
    "    if i.isalpha():\n",
    "        ab+=i\n",
    "    elif int(i)%2==0:\n",
    "        ev+=i\n",
    "    else:\n",
    "        od+=i\n",
    "print(\"alphabets in given string\",ab)\n",
    "print(\"even numbers\",ev)\n",
    "print(\"odd numbers\",od)        "
   ]
  },
  {
   "cell_type": "code",
   "execution_count": 32,
   "id": "b5dc9644",
   "metadata": {},
   "outputs": [
    {
     "name": "stdout",
     "output_type": "stream",
     "text": [
      "3\n"
     ]
    }
   ],
   "source": [
    "# no of occurence of a character\n",
    "s1=\"GoodMorning India\"\n",
    "count=0\n",
    "for i in s1:\n",
    "    if i==\"o\":\n",
    "        count=count+1\n",
    "print(count)"
   ]
  },
  {
   "cell_type": "markdown",
   "id": "c34c6da7",
   "metadata": {},
   "source": [
    "# functions-->collection of statements that can be reused\n",
    "syntax\n",
    "#### Def functionname():\n",
    "####       Body of the function\n",
    "####  functionname()"
   ]
  },
  {
   "cell_type": "code",
   "execution_count": 33,
   "id": "ca1da211",
   "metadata": {},
   "outputs": [
    {
     "name": "stdout",
     "output_type": "stream",
     "text": [
      "add 30\n",
      "sub -10\n",
      "mul 200\n",
      "div 0.5\n"
     ]
    }
   ],
   "source": [
    "def add():\n",
    "    a=10\n",
    "    b=20\n",
    "    c=a+b\n",
    "    print(\"add\",c)\n",
    "add()\n",
    "\n",
    "def sub():\n",
    "    a=10\n",
    "    b=20\n",
    "    d=a-b\n",
    "    print(\"sub\",d)\n",
    "sub()\n",
    "\n",
    "def mul():\n",
    "    a=10\n",
    "    b=20    \n",
    "    e=a*b\n",
    "    print(\"mul\",e)\n",
    "mul()\n",
    "\n",
    "def div():\n",
    "    a=10\n",
    "    b=20\n",
    "    f=a/b\n",
    "    print(\"div\",f)\n",
    "div()"
   ]
  },
  {
   "cell_type": "code",
   "execution_count": 36,
   "id": "2dc63bd8",
   "metadata": {},
   "outputs": [
    {
     "name": "stdout",
     "output_type": "stream",
     "text": [
      "5\n",
      "1\n",
      "2\n",
      "6\n",
      "24\n",
      "120\n"
     ]
    }
   ],
   "source": [
    "# factorial\n",
    "def fact():\n",
    "    a=int(input())\n",
    "    fac=1\n",
    "    i=1\n",
    "    while i<=a:\n",
    "        fac=fac*i\n",
    "        print(fac)\n",
    "        i=i+1\n",
    "fact()"
   ]
  },
  {
   "cell_type": "markdown",
   "id": "6fb50bc3",
   "metadata": {},
   "source": [
    "# types of functions\n",
    "#### without arg and without return value\n",
    "#### with arg and without return value\n",
    "#### without arg and with return value\n",
    "#### with arg and with return value"
   ]
  },
  {
   "cell_type": "code",
   "execution_count": 18,
   "id": "202acccd",
   "metadata": {},
   "outputs": [
    {
     "name": "stdout",
     "output_type": "stream",
     "text": [
      "1\n",
      "2\n",
      "6\n",
      "24\n",
      "120\n"
     ]
    }
   ],
   "source": [
    "# without arg and without return value\n",
    "def fact():\n",
    "    fac=1\n",
    "    for i in range(1,6):\n",
    "        fac=fac*i\n",
    "        print(fac)\n",
    "fact()"
   ]
  },
  {
   "cell_type": "code",
   "execution_count": 50,
   "id": "ac5bc8c9",
   "metadata": {},
   "outputs": [
    {
     "name": "stdout",
     "output_type": "stream",
     "text": [
      "1\n",
      "2\n",
      "6\n",
      "24\n",
      "120\n",
      "720\n"
     ]
    }
   ],
   "source": [
    "# with arg and without return value\n",
    "def fact(n):\n",
    "    fac=1\n",
    "    for i in range(1,n+1):\n",
    "        fac=fac*i\n",
    "        print(fac)\n",
    "fact(6)"
   ]
  },
  {
   "cell_type": "code",
   "execution_count": 48,
   "id": "57a71292",
   "metadata": {},
   "outputs": [
    {
     "data": {
      "text/plain": [
       "120"
      ]
     },
     "execution_count": 48,
     "metadata": {},
     "output_type": "execute_result"
    }
   ],
   "source": [
    "# without arg and with return value\n",
    "def fact():\n",
    "    fac=1\n",
    "    for i in range(1,6):\n",
    "        fac=fac*i\n",
    "    return fac \n",
    "    print(fac)\n",
    "fact()"
   ]
  },
  {
   "cell_type": "code",
   "execution_count": 49,
   "id": "c3667916",
   "metadata": {},
   "outputs": [
    {
     "data": {
      "text/plain": [
       "120"
      ]
     },
     "execution_count": 49,
     "metadata": {},
     "output_type": "execute_result"
    }
   ],
   "source": [
    " # with arg and with return value\n",
    "def fact(n):\n",
    "    fac=1\n",
    "    for i in range(1,n+1):\n",
    "        fac=fac*i\n",
    "    return fac \n",
    "    print(fac)\n",
    "fact(5)   "
   ]
  },
  {
   "cell_type": "code",
   "execution_count": 2,
   "id": "4793d341",
   "metadata": {},
   "outputs": [
    {
     "name": "stdout",
     "output_type": "stream",
     "text": [
      "😊\n",
      "😊😊\n",
      "😊😊😊\n",
      "😊😊😊😊\n",
      "😊😊😊😊😊\n",
      "😊😊😊😊😊\n",
      "😊😊😊😊\n",
      "😊😊😊\n",
      "😊😊\n",
      "😊\n",
      "1\n"
     ]
    }
   ],
   "source": [
    "c=1\n",
    "for i in range(1,11):\n",
    "    if i<5:\n",
    "        print(\"😊\"*c)\n",
    "        c=c+1\n",
    "    elif i==5:\n",
    "        print(\"😊\"*c)\n",
    "        c=c+1 \n",
    "    else:\n",
    "         if i>5:\n",
    "            c=c-1\n",
    "            print(\"😊\"*c)\n",
    "print(c)"
   ]
  },
  {
   "cell_type": "code",
   "execution_count": 13,
   "id": "9cc7803f",
   "metadata": {},
   "outputs": [
    {
     "name": "stdout",
     "output_type": "stream",
     "text": [
      " 😊\n",
      " 😊😊\n",
      " 😊😊😊\n",
      " 😊😊😊😊\n",
      " 😊😊😊\n",
      " 😊😊\n",
      " 😊\n",
      " \n",
      "\n"
     ]
    }
   ],
   "source": [
    "st=\" \"\n",
    "for i in range(1,10):\n",
    "    if i<5:\n",
    "        st+=\"😊\"\n",
    "        print(st)\n",
    "    elif i>4:\n",
    "        st=st[:-1]\n",
    "        print(st)"
   ]
  },
  {
   "cell_type": "code",
   "execution_count": 14,
   "id": "0d875731",
   "metadata": {},
   "outputs": [
    {
     "name": "stdout",
     "output_type": "stream",
     "text": [
      " 😊\n",
      " 😊😊\n",
      " 😊😊😊\n",
      " 😊😊😊😊\n"
     ]
    }
   ],
   "source": [
    "st=\" \"\n",
    "for i in range(1,10):\n",
    "    if i<5:\n",
    "        st+=\"😊\"\n",
    "        print(st)"
   ]
  },
  {
   "cell_type": "code",
   "execution_count": 27,
   "id": "6ea6b6f8",
   "metadata": {},
   "outputs": [
    {
     "name": "stdout",
     "output_type": "stream",
     "text": [
      "['hello', 'everyone']\n",
      "2\n"
     ]
    }
   ],
   "source": [
    "s=\"hello everyone\"\n",
    "s1=s.split()\n",
    "print(s1)\n",
    "print(len(s1))"
   ]
  },
  {
   "cell_type": "code",
   "execution_count": 28,
   "id": "a094bc56",
   "metadata": {},
   "outputs": [
    {
     "name": "stdout",
     "output_type": "stream",
     "text": [
      "enter the stringhello world \n",
      "1\n",
      "1\n",
      "1\n",
      "1\n",
      "1\n",
      "2\n",
      "2\n",
      "2\n",
      "2\n",
      "2\n",
      "2\n",
      "3\n"
     ]
    }
   ],
   "source": [
    "# number of words in a string\n",
    "cunt=1\n",
    "s=input(\"enter the string\")\n",
    "for i in s:\n",
    "    if i==' ':\n",
    "        cunt+=1\n",
    "    print(cunt)   "
   ]
  },
  {
   "cell_type": "code",
   "execution_count": 1,
   "id": "88c241e3",
   "metadata": {},
   "outputs": [
    {
     "name": "stdout",
     "output_type": "stream",
     "text": [
      "a3b4c5\n",
      " a\n",
      " 3\n",
      " ab\n",
      " 34\n",
      " abc\n",
      " 345\n"
     ]
    }
   ],
   "source": [
    "# a3b4c5 aaabbbbccccc\n",
    "ac=input()\n",
    "ab=\" \"\n",
    "no=\" \"\n",
    "out=\" \"\n",
    "for i in ac:\n",
    "    if i.isalpha():\n",
    "        ab+=i\n",
    "        print(ab)\n",
    "    elif int(i):\n",
    "        no+=i\n",
    "        print(no)"
   ]
  },
  {
   "cell_type": "code",
   "execution_count": 16,
   "id": "a0889657",
   "metadata": {},
   "outputs": [
    {
     "name": "stdout",
     "output_type": "stream",
     "text": [
      "a3b4c5\n",
      "a\n",
      "3\n",
      "b\n",
      "4\n",
      "c\n",
      "5\n",
      " aaabbbbccccc\n"
     ]
    }
   ],
   "source": [
    "ac=input()\n",
    "out=\" \"\n",
    "for i in ac:\n",
    "    if i.isalpha():\n",
    "        ch=i\n",
    "        print(ch)\n",
    "    else:\n",
    "        dig=int(i)\n",
    "        print(dig)\n",
    "        out=out+dig*ch\n",
    "print(out)"
   ]
  },
  {
   "cell_type": "code",
   "execution_count": 14,
   "id": "cf947014",
   "metadata": {},
   "outputs": [
    {
     "name": "stdout",
     "output_type": "stream",
     "text": [
      "Enter the Stringa3b4c5\n",
      "alphabets a\n",
      "numbers 3\n",
      "alphabets b\n",
      "numbers 4\n",
      "alphabets c\n",
      "numbers 5\n",
      "aaabbbbccccc\n"
     ]
    }
   ],
   "source": [
    "# input=a3b4c5 out=aaabbbbccccc\n",
    "st=input(\"Enter the String\")\n",
    "out=''\n",
    "for i in st:\n",
    "    if i.isalpha():\n",
    "        ch=i\n",
    "        print(\"alphabets\",ch)\n",
    "    else:\n",
    "        dig=int(i)\n",
    "        print(\"numbers\",dig)\n",
    "        out=out+dig*ch\n",
    "        \n",
    "print(out) "
   ]
  },
  {
   "cell_type": "code",
   "execution_count": 20,
   "id": "cb9e175d",
   "metadata": {},
   "outputs": [
    {
     "name": "stdout",
     "output_type": "stream",
     "text": [
      "10 20 30\n",
      "60\n"
     ]
    }
   ],
   "source": [
    "# default arg--> default values will be considered if no values r entered\n",
    "def arg(a,b,c):\n",
    "    print(a,b,c)\n",
    "    d=c+b+a\n",
    "    print(d)\n",
    "arg(10,20,30)    "
   ]
  },
  {
   "cell_type": "code",
   "execution_count": 22,
   "id": "bc73b8cd",
   "metadata": {},
   "outputs": [
    {
     "name": "stdout",
     "output_type": "stream",
     "text": [
      "My name is SreeLakshmi My role is Student\n"
     ]
    }
   ],
   "source": [
    "def dfun(name,role):\n",
    "    print(\"My name is\",name,\"My role is\",role)\n",
    "dfun(\"SreeLakshmi\",\"Student\")    "
   ]
  },
  {
   "cell_type": "code",
   "execution_count": 23,
   "id": "81e5acab",
   "metadata": {},
   "outputs": [
    {
     "name": "stdout",
     "output_type": "stream",
     "text": [
      "My name is Roopa My role is Neet aspirant\n"
     ]
    }
   ],
   "source": [
    "dfun(\"Roopa\",\"Neet aspirant\")"
   ]
  },
  {
   "cell_type": "code",
   "execution_count": 24,
   "id": "3fa0299c",
   "metadata": {},
   "outputs": [
    {
     "name": "stdout",
     "output_type": "stream",
     "text": [
      "My name is Ram My role is CA\n"
     ]
    }
   ],
   "source": [
    "dfun(\"Ram\",\"CA\")  "
   ]
  },
  {
   "cell_type": "code",
   "execution_count": 26,
   "id": "70698b1a",
   "metadata": {},
   "outputs": [
    {
     "name": "stdout",
     "output_type": "stream",
     "text": [
      "My name is swami My role si mst\n"
     ]
    }
   ],
   "source": [
    "def keyword(name,role):\n",
    "   print(\"My name is\",name,\"My role si\",role)\n",
    "keyword(name=\"swami\",role=\"mst\")    "
   ]
  },
  {
   "cell_type": "code",
   "execution_count": 27,
   "id": "6339285b",
   "metadata": {},
   "outputs": [
    {
     "name": "stdout",
     "output_type": "stream",
     "text": [
      "Swami\n",
      "Surya\n",
      "mst\n",
      "apssdc\n"
     ]
    }
   ],
   "source": [
    "# Arbitary keyword functions->*,**\n",
    "def keystar(*names):\n",
    "    for i in names:\n",
    "        print(i)\n",
    "keystar(\"Swami\",\"Surya\",\"mst\",\"apssdc\")"
   ]
  },
  {
   "cell_type": "code",
   "execution_count": 28,
   "id": "61290c9e",
   "metadata": {},
   "outputs": [
    {
     "name": "stdout",
     "output_type": "stream",
     "text": [
      "vignan dvd\n"
     ]
    }
   ],
   "source": [
    "# **--> saved in dictionaries\n",
    "def keystar(**names):\n",
    "        print(names[\"clg\"],names[\"add\"])\n",
    "keystar(clg=\"vignan\",add=\"dvd\")"
   ]
  },
  {
   "cell_type": "code",
   "execution_count": 36,
   "id": "97df93b6",
   "metadata": {},
   "outputs": [
    {
     "name": "stdout",
     "output_type": "stream",
     "text": [
      "120\n"
     ]
    }
   ],
   "source": [
    "# Recursive functin--> function calling itself\n",
    "fact=1\n",
    "def factto(n):\n",
    "    if n==1:\n",
    "        return 1\n",
    "    else:\n",
    "        return n*factto(n-1)\n",
    "print(factto(5))"
   ]
  },
  {
   "cell_type": "code",
   "execution_count": 37,
   "id": "b68f936f",
   "metadata": {},
   "outputs": [],
   "source": [
    "# using functionc find leap year and prime number"
   ]
  },
  {
   "cell_type": "code",
   "execution_count": 40,
   "id": "db17b54b",
   "metadata": {},
   "outputs": [
    {
     "ename": "SyntaxError",
     "evalue": "invalid syntax (<ipython-input-40-5a143d0d2819>, line 2)",
     "output_type": "error",
     "traceback": [
      "\u001b[1;36m  File \u001b[1;32m\"<ipython-input-40-5a143d0d2819>\"\u001b[1;36m, line \u001b[1;32m2\u001b[0m\n\u001b[1;33m    * twotypes --> primitive and non primitive\u001b[0m\n\u001b[1;37m                ^\u001b[0m\n\u001b[1;31mSyntaxError\u001b[0m\u001b[1;31m:\u001b[0m invalid syntax\n"
     ]
    }
   ],
   "source": [
    "# DATA STRUCTURES/ DATA TYPES\n",
    "* two types--> primitive and non primitive\n",
    "* primitive --> int,float,boolean,strings\n",
    "* non primitive --> lists,tuples,dictionaries,sets,files,arrays\n",
    "* primitive-> single values only can be taken to a variable\n",
    "* to keep multiple elements we use non primitive types"
   ]
  },
  {
   "cell_type": "markdown",
   "id": "af7abbc3",
   "metadata": {},
   "source": [
    "# list:\n",
    "* collection of elements or items(either similar or different type are accepted)\n",
    "* It is stored and retrived, ordered and idexed format\n",
    "* seperated by ,    represented []\n",
    "* it allows duplicate items"
   ]
  },
  {
   "cell_type": "code",
   "execution_count": 41,
   "id": "3f5116a2",
   "metadata": {},
   "outputs": [
    {
     "data": {
      "text/plain": [
       "list"
      ]
     },
     "execution_count": 41,
     "metadata": {},
     "output_type": "execute_result"
    }
   ],
   "source": [
    "li=[]\n",
    "type(li)"
   ]
  },
  {
   "cell_type": "code",
   "execution_count": 42,
   "id": "7f798586",
   "metadata": {},
   "outputs": [
    {
     "data": {
      "text/plain": [
       "int"
      ]
     },
     "execution_count": 42,
     "metadata": {},
     "output_type": "execute_result"
    }
   ],
   "source": [
    "li=30\n",
    "type(li)"
   ]
  },
  {
   "cell_type": "code",
   "execution_count": 43,
   "id": "a19768b5",
   "metadata": {},
   "outputs": [
    {
     "data": {
      "text/plain": [
       "[2, 6, 8, 9]"
      ]
     },
     "execution_count": 43,
     "metadata": {},
     "output_type": "execute_result"
    }
   ],
   "source": [
    "li=[2,6,8,9] # printed exactly an given in input\n",
    "li"
   ]
  },
  {
   "cell_type": "code",
   "execution_count": 45,
   "id": "a11c1dcd",
   "metadata": {},
   "outputs": [
    {
     "data": {
      "text/plain": [
       "[2, 5, 4, 'Sree', True]"
      ]
     },
     "execution_count": 45,
     "metadata": {},
     "output_type": "execute_result"
    }
   ],
   "source": [
    "li=[2,5,4,\"Sree\",True] # accepted all type of data types\n",
    "li"
   ]
  },
  {
   "cell_type": "code",
   "execution_count": 69,
   "id": "6ef40d76",
   "metadata": {},
   "outputs": [
    {
     "name": "stdout",
     "output_type": "stream",
     "text": [
      "5\n",
      "Sree\n",
      "['Sree']\n",
      "[True, 'Sree', 4, 5, 2]\n",
      "[2, 4, True]\n",
      "[5, 'Sree']\n"
     ]
    }
   ],
   "source": [
    "li # accessing the entire list\n",
    "print(li[1]) # accessing element at index 1 is printed\n",
    "print(li[-2]) # accessing the index from the end/reverse\n",
    "print(li[-2:4])\n",
    "print(li[::-1])\n",
    "print(li[::2])\n",
    "print(li[1::2])"
   ]
  },
  {
   "cell_type": "code",
   "execution_count": 78,
   "id": "1edf305b",
   "metadata": {},
   "outputs": [
    {
     "name": "stdout",
     "output_type": "stream",
     "text": [
      "[3, 6, 4, 7]\n",
      "[3, 6, 4, 7]\n",
      "[2, 6, 7, 3]\n",
      "[3, 4, 3]\n",
      "[2, 3, 6, 4, 7, 3]\n",
      "[2, 3, 6, 4, 7, 3, 3]\n",
      "[2, 3, 6, 4, 7, 3]\n",
      "[2, 6, 7]\n",
      "[3]\n",
      "[3, 6, 4, 7, 3]\n"
     ]
    }
   ],
   "source": [
    "li2=[2,3,6,4,7,3,3]\n",
    "print(li2[1:5])\n",
    "print(li2[-6:-2])\n",
    "print(li2[::2])\n",
    "print(li2[1::2])\n",
    "print(li2[0:6])\n",
    "print(li2[0:6+1])\n",
    "print(li2[0:6:1])\n",
    "print(li2[0:6:2])\n",
    "print(li2[-6:0:-2])\n",
    "print(li2[-6:-1:1])"
   ]
  },
  {
   "cell_type": "code",
   "execution_count": 79,
   "id": "69a62087",
   "metadata": {},
   "outputs": [
    {
     "name": "stdout",
     "output_type": "stream",
     "text": [
      "['__add__', '__class__', '__contains__', '__delattr__', '__delitem__', '__dir__', '__doc__', '__eq__', '__format__', '__ge__', '__getattribute__', '__getitem__', '__gt__', '__hash__', '__iadd__', '__imul__', '__init__', '__init_subclass__', '__iter__', '__le__', '__len__', '__lt__', '__mul__', '__ne__', '__new__', '__reduce__', '__reduce_ex__', '__repr__', '__reversed__', '__rmul__', '__setattr__', '__setitem__', '__sizeof__', '__str__', '__subclasshook__', 'append', 'clear', 'copy', 'count', 'extend', 'index', 'insert', 'pop', 'remove', 'reverse', 'sort']\n"
     ]
    }
   ],
   "source": [
    "print(dir(list)) "
   ]
  },
  {
   "cell_type": "code",
   "execution_count": 15,
   "id": "4b7828ab",
   "metadata": {},
   "outputs": [
    {
     "data": {
      "text/plain": [
       "[2, 5.4, 'Sree', True]"
      ]
     },
     "execution_count": 15,
     "metadata": {},
     "output_type": "execute_result"
    }
   ],
   "source": [
    "li=[2,5.4,\"Sree\",True]\n",
    "li"
   ]
  },
  {
   "cell_type": "code",
   "execution_count": 17,
   "id": "49ce2c02",
   "metadata": {},
   "outputs": [
    {
     "data": {
      "text/plain": [
       "[2, 5.4, 'Sree', True, 12]"
      ]
     },
     "execution_count": 17,
     "metadata": {},
     "output_type": "execute_result"
    }
   ],
   "source": [
    "li.append(12) # adding element to end of list\n",
    "li"
   ]
  },
  {
   "cell_type": "code",
   "execution_count": 9,
   "id": "2dec9c15",
   "metadata": {},
   "outputs": [
    {
     "data": {
      "text/plain": [
       "[2, 3, 6, 4, 7, 3, 3, 'surya']"
      ]
     },
     "execution_count": 9,
     "metadata": {},
     "output_type": "execute_result"
    }
   ],
   "source": [
    "li2=[2,3,6,4,7,3,3]\n",
    "li2.append(\"surya\")\n",
    "li2"
   ]
  },
  {
   "cell_type": "code",
   "execution_count": 21,
   "id": "6b9b5631",
   "metadata": {},
   "outputs": [],
   "source": [
    "li.insert(2,\"venkat\") # adding element at particular position"
   ]
  },
  {
   "cell_type": "code",
   "execution_count": 22,
   "id": "af088fd6",
   "metadata": {},
   "outputs": [
    {
     "data": {
      "text/plain": [
       "[1, 2, 'venkat', 2, 3, 5, 5, 8, 9]"
      ]
     },
     "execution_count": 22,
     "metadata": {},
     "output_type": "execute_result"
    }
   ],
   "source": [
    "li"
   ]
  },
  {
   "cell_type": "code",
   "execution_count": 13,
   "id": "ff765e29",
   "metadata": {},
   "outputs": [
    {
     "ename": "TypeError",
     "evalue": "'<' not supported between instances of 'str' and 'int'",
     "output_type": "error",
     "traceback": [
      "\u001b[1;31m---------------------------------------------------------------------------\u001b[0m",
      "\u001b[1;31mTypeError\u001b[0m                                 Traceback (most recent call last)",
      "\u001b[1;32m<ipython-input-13-1bd59660c28b>\u001b[0m in \u001b[0;36m<module>\u001b[1;34m\u001b[0m\n\u001b[1;32m----> 1\u001b[1;33m \u001b[0mli\u001b[0m\u001b[1;33m.\u001b[0m\u001b[0msort\u001b[0m\u001b[1;33m(\u001b[0m\u001b[1;33m)\u001b[0m\u001b[1;33m\u001b[0m\u001b[1;33m\u001b[0m\u001b[0m\n\u001b[0m",
      "\u001b[1;31mTypeError\u001b[0m: '<' not supported between instances of 'str' and 'int'"
     ]
    }
   ],
   "source": [
    "li.sort()"
   ]
  },
  {
   "cell_type": "code",
   "execution_count": 18,
   "id": "b962f190",
   "metadata": {},
   "outputs": [
    {
     "data": {
      "text/plain": [
       "[1, 2, 2, 3, 5, 5, 8, 9, 11]"
      ]
     },
     "execution_count": 18,
     "metadata": {},
     "output_type": "execute_result"
    }
   ],
   "source": [
    "li=[5,3,2,8,9,11,1,2,5]\n",
    "li.sort() # sort elements in ascending order\n",
    "li"
   ]
  },
  {
   "cell_type": "code",
   "execution_count": 19,
   "id": "d8c3d5bd",
   "metadata": {},
   "outputs": [
    {
     "data": {
      "text/plain": [
       "[1, 2, 2, 3, 5, 5, 8, 9]"
      ]
     },
     "execution_count": 19,
     "metadata": {},
     "output_type": "execute_result"
    }
   ],
   "source": [
    "li.pop() # deleting/remove last element in a list\n",
    "li"
   ]
  },
  {
   "cell_type": "code",
   "execution_count": 24,
   "id": "f0383b44",
   "metadata": {},
   "outputs": [
    {
     "data": {
      "text/plain": [
       "[1, 'venkat', 2, 3, 5, 5, 8, 9]"
      ]
     },
     "execution_count": 24,
     "metadata": {},
     "output_type": "execute_result"
    }
   ],
   "source": [
    "li.remove(2) # element will be removed\n",
    "li"
   ]
  },
  {
   "cell_type": "code",
   "execution_count": 25,
   "id": "c6446120",
   "metadata": {},
   "outputs": [
    {
     "data": {
      "text/plain": [
       "[1, 2, 3, 5, 5, 8, 9]"
      ]
     },
     "execution_count": 25,
     "metadata": {},
     "output_type": "execute_result"
    }
   ],
   "source": [
    "li.remove(\"venkat\") # ElementToBeRemovedShouldBeWrittenNotTheIndex\n",
    "li     "
   ]
  },
  {
   "cell_type": "code",
   "execution_count": 26,
   "id": "90269d22",
   "metadata": {},
   "outputs": [
    {
     "data": {
      "text/plain": [
       "[9, 8, 5, 5, 3, 2, 1]"
      ]
     },
     "execution_count": 26,
     "metadata": {},
     "output_type": "execute_result"
    }
   ],
   "source": [
    "li.reverse() # will reverse the list of elements\n",
    "li"
   ]
  },
  {
   "cell_type": "code",
   "execution_count": 27,
   "id": "e07a3408",
   "metadata": {},
   "outputs": [
    {
     "data": {
      "text/plain": [
       "[1, 2, 3, [6, 7, 8]]"
      ]
     },
     "execution_count": 27,
     "metadata": {},
     "output_type": "execute_result"
    }
   ],
   "source": [
    "li1=[1,2,3,[6,7,8]] # can pass list inside list\n",
    "li1"
   ]
  },
  {
   "cell_type": "code",
   "execution_count": 31,
   "id": "4cf2bacb",
   "metadata": {},
   "outputs": [
    {
     "name": "stdout",
     "output_type": "stream",
     "text": [
      "1\n",
      "2\n",
      "3\n",
      "[6, 7, 8]\n",
      "6\n",
      "7\n",
      "8\n"
     ]
    }
   ],
   "source": [
    "print(li1[0])\n",
    "print(li1[1])\n",
    "print(li1[2])\n",
    "print(li1[3]) # inside list \n",
    "print(li1[3][0]) #accessing elements inside list\n",
    "print(li1[3][1])\n",
    "print(li1[3][2])"
   ]
  },
  {
   "cell_type": "code",
   "execution_count": 44,
   "id": "f0859b60",
   "metadata": {},
   "outputs": [
    {
     "name": "stdout",
     "output_type": "stream",
     "text": [
      "[6, 7]\n",
      "[6, 8]\n"
     ]
    }
   ],
   "source": [
    "print(li1[3][0:2])\n",
    "print(li1[3][::2])"
   ]
  },
  {
   "cell_type": "code",
   "execution_count": 35,
   "id": "f684c931",
   "metadata": {},
   "outputs": [
    {
     "name": "stdout",
     "output_type": "stream",
     "text": [
      "3\n",
      "2\n"
     ]
    }
   ],
   "source": [
    "l2=[2,3,4,4,4,5,6]\n",
    "print(l2.count(4)) # element is passed not index\n",
    "print(l2.index(4))"
   ]
  },
  {
   "cell_type": "code",
   "execution_count": 36,
   "id": "76472736",
   "metadata": {},
   "outputs": [
    {
     "data": {
      "text/plain": [
       "[2, 3, 4, 4, 4, 5, 6]"
      ]
     },
     "execution_count": 36,
     "metadata": {},
     "output_type": "execute_result"
    }
   ],
   "source": [
    "l3=[34,35]\n",
    "l3=l2.copy() # copying data\n",
    "l3"
   ]
  },
  {
   "cell_type": "code",
   "execution_count": 45,
   "id": "18977157",
   "metadata": {},
   "outputs": [],
   "source": [
    "l3.clear()"
   ]
  },
  {
   "cell_type": "code",
   "execution_count": 46,
   "id": "f2baa619",
   "metadata": {},
   "outputs": [
    {
     "data": {
      "text/plain": [
       "[]"
      ]
     },
     "execution_count": 46,
     "metadata": {},
     "output_type": "execute_result"
    }
   ],
   "source": [
    "l3"
   ]
  },
  {
   "cell_type": "code",
   "execution_count": 49,
   "id": "522261b4",
   "metadata": {},
   "outputs": [
    {
     "data": {
      "text/plain": [
       "[1, 1]"
      ]
     },
     "execution_count": 49,
     "metadata": {},
     "output_type": "execute_result"
    }
   ],
   "source": [
    "l3.append(1)\n",
    "l3"
   ]
  },
  {
   "cell_type": "code",
   "execution_count": 51,
   "id": "cf144e23",
   "metadata": {},
   "outputs": [
    {
     "data": {
      "text/plain": [
       "[1, 1, 2, 2]"
      ]
     },
     "execution_count": 51,
     "metadata": {},
     "output_type": "execute_result"
    }
   ],
   "source": [
    "l3.insert(2,2)\n",
    "l3"
   ]
  },
  {
   "cell_type": "code",
   "execution_count": 53,
   "id": "2e3c10cf",
   "metadata": {},
   "outputs": [
    {
     "data": {
      "text/plain": [
       "[]"
      ]
     },
     "execution_count": 53,
     "metadata": {},
     "output_type": "execute_result"
    }
   ],
   "source": [
    "l3.clear()\n",
    "l3"
   ]
  },
  {
   "cell_type": "code",
   "execution_count": 54,
   "id": "06d2fd7d",
   "metadata": {},
   "outputs": [
    {
     "data": {
      "text/plain": [
       "[2, 3, 3, 4, 5, 5, 6, 6, 7, 8, 9]"
      ]
     },
     "execution_count": 54,
     "metadata": {},
     "output_type": "execute_result"
    }
   ],
   "source": [
    "l1=[2,3,3,4,5]\n",
    "l2=[5,6,6,7,8,9]\n",
    "l1.extend(l2) # l2 is added to l1\n",
    "l1"
   ]
  },
  {
   "cell_type": "code",
   "execution_count": 55,
   "id": "32a66af8",
   "metadata": {},
   "outputs": [
    {
     "data": {
      "text/plain": [
       "[5, 6, 6, 7, 8, 9]"
      ]
     },
     "execution_count": 55,
     "metadata": {},
     "output_type": "execute_result"
    }
   ],
   "source": [
    "l2"
   ]
  },
  {
   "cell_type": "code",
   "execution_count": 56,
   "id": "8367f5ab",
   "metadata": {},
   "outputs": [
    {
     "data": {
      "text/plain": [
       "[5, 6, 6, 7, 8, 9, 2, 3, 3, 4, 5, 5, 6, 6, 7, 8, 9]"
      ]
     },
     "execution_count": 56,
     "metadata": {},
     "output_type": "execute_result"
    }
   ],
   "source": [
    "l2.extend(l1)\n",
    "l2"
   ]
  },
  {
   "cell_type": "code",
   "execution_count": 57,
   "id": "7da09c2d",
   "metadata": {},
   "outputs": [
    {
     "data": {
      "text/plain": [
       "4"
      ]
     },
     "execution_count": 57,
     "metadata": {},
     "output_type": "execute_result"
    }
   ],
   "source": [
    "l2.count(6) # gives count of that number present in the list"
   ]
  },
  {
   "cell_type": "code",
   "execution_count": 61,
   "id": "9c43ac28",
   "metadata": {},
   "outputs": [
    {
     "name": "stdout",
     "output_type": "stream",
     "text": [
      "99\n"
     ]
    }
   ],
   "source": [
    "sum=0\n",
    "for i in l2:\n",
    "    sum+=i\n",
    "print(sum)"
   ]
  },
  {
   "cell_type": "code",
   "execution_count": 64,
   "id": "f9e8ec68",
   "metadata": {},
   "outputs": [
    {
     "name": "stdout",
     "output_type": "stream",
     "text": [
      "9\n",
      "2\n",
      "17\n"
     ]
    }
   ],
   "source": [
    "print(max(l2))\n",
    "print(min(l2))\n",
    "print(len(l2))"
   ]
  },
  {
   "cell_type": "code",
   "execution_count": 63,
   "id": "e6226f5e",
   "metadata": {},
   "outputs": [
    {
     "name": "stdout",
     "output_type": "stream",
     "text": [
      "5.823529411764706\n"
     ]
    }
   ],
   "source": [
    "avg=sum/len(l2)\n",
    "print(avg)"
   ]
  },
  {
   "cell_type": "code",
   "execution_count": 87,
   "id": "f07c435b",
   "metadata": {},
   "outputs": [
    {
     "name": "stdout",
     "output_type": "stream",
     "text": [
      "2.75\n",
      "11\n",
      "0.4230769230769231\n"
     ]
    }
   ],
   "source": [
    "s=[1,2,3,5,'a',\"surya\"]\n",
    "# find sum and avg particular list\n",
    "sum=c=0\n",
    "s=str(s)\n",
    "for i in s:\n",
    "    if i.isdigit():\n",
    "        sum=sum+int(i)\n",
    "        c=c+1\n",
    "print(sum/c)\n",
    "print(sum)\n",
    "avg=sum/len(s)\n",
    "print(avg)"
   ]
  },
  {
   "cell_type": "code",
   "execution_count": 85,
   "id": "6d76b4d4",
   "metadata": {},
   "outputs": [
    {
     "name": "stdout",
     "output_type": "stream",
     "text": [
      "2.8333333333333335\n"
     ]
    }
   ],
   "source": [
    "p=[1,2,3,5,4,2,'a',\"surya\"]\n",
    "# find sum and avg particular list\n",
    "sum=c=0\n",
    "p=str(p)\n",
    "for i in p:\n",
    "    if i.isdigit():\n",
    "        sum=sum+int(i)\n",
    "        c=c+1\n",
    "print(sum/c)"
   ]
  },
  {
   "cell_type": "code",
   "execution_count": 94,
   "id": "06ceb125",
   "metadata": {},
   "outputs": [
    {
     "name": "stdout",
     "output_type": "stream",
     "text": [
      "2.8333333333333335\n"
     ]
    }
   ],
   "source": [
    "p=[1,2,3,5,4,2,'a',\"surya\",\"hello\"]\n",
    "# find sum and avg particular list\n",
    "sum=c=0\n",
    "for i in p:\n",
    "    if type(i)==int or type(i)==float:\n",
    "        sum=sum+i\n",
    "        c=c+1\n",
    "print(sum/c)"
   ]
  },
  {
   "cell_type": "code",
   "execution_count": 101,
   "id": "1a6d2fd2",
   "metadata": {},
   "outputs": [
    {
     "name": "stdout",
     "output_type": "stream",
     "text": [
      "[3, 3, 4, 6, 8, 9, 9, 10]\n",
      "10\n",
      "9\n"
     ]
    }
   ],
   "source": [
    "li=[4,3,3,10,6,8,9,9]\n",
    "li.sort()\n",
    "print(li)\n",
    "print(max(li))\n",
    "print(li[-2])\n",
    "print()"
   ]
  },
  {
   "cell_type": "code",
   "execution_count": 115,
   "id": "221fa876",
   "metadata": {},
   "outputs": [
    {
     "name": "stdout",
     "output_type": "stream",
     "text": [
      "[3, 3, 4, 6, 8, 9, 9, 10, 10, 10]\n",
      "10\n",
      "9\n"
     ]
    }
   ],
   "source": [
    "# find second largest element\n",
    "li=[4,3,3,10,10,10,6,8,9,9]\n",
    "li.sort()\n",
    "print(li)\n",
    "print(max(li))\n",
    "\n",
    "for i in li[::-1]:\n",
    "    if(i==max(li)):\n",
    "        continue\n",
    "    else:\n",
    "        print(i)\n",
    "        break"
   ]
  },
  {
   "cell_type": "code",
   "execution_count": 1,
   "id": "5611f59f",
   "metadata": {},
   "outputs": [
    {
     "name": "stdout",
     "output_type": "stream",
     "text": [
      "[3, 3, 4, 6, 8, 9, 9, 10, 10, 10]\n",
      "10\n",
      "[3, 4, 6, 8, 9, 10]\n",
      "6\n"
     ]
    }
   ],
   "source": [
    "# find second largest element\n",
    "li=[4,3,3,10,10,10,6,8,9,9]\n",
    "li.sort()\n",
    "print(li)\n",
    "print(max(li))\n",
    "nli=[]\n",
    "for i in li:\n",
    "    if i not in nli:\n",
    "        nli.append(i)\n",
    "print(nli) \n",
    "print(nli[-4])"
   ]
  },
  {
   "cell_type": "code",
   "execution_count": 119,
   "id": "e3f7e9b8",
   "metadata": {},
   "outputs": [
    {
     "name": "stdout",
     "output_type": "stream",
     "text": [
      "['1', '2', '3', '4', '5']\n",
      "[1, 2, 3, 4, 5]\n"
     ]
    }
   ],
   "source": [
    "s=\"1 2 3 4 5\"\n",
    "li=s.split()\n",
    "print(li)\n",
    "nlist=[]\n",
    "for i in li:\n",
    "    nlist.append(int(i))\n",
    "print(nlist)    "
   ]
  },
  {
   "cell_type": "code",
   "execution_count": 2,
   "id": "7f199dc2",
   "metadata": {},
   "outputs": [
    {
     "name": "stdout",
     "output_type": "stream",
     "text": [
      "[1, 2, 3, 4, 5, 6, 7, 8, 9]\n"
     ]
    }
   ],
   "source": [
    "#to convert string to list\n",
    "s= \"1 2 3 4 5 6 7 8 9\"\n",
    "li=s.split()\n",
    "nlist=[]\n",
    "for i in li:\n",
    "    nlist.append(int(i))\n",
    "print(nlist)"
   ]
  },
  {
   "cell_type": "code",
   "execution_count": 3,
   "id": "1ffb62c0",
   "metadata": {},
   "outputs": [
    {
     "name": "stdout",
     "output_type": "stream",
     "text": [
      "['__add__', '__class__', '__contains__', '__delattr__', '__dir__', '__doc__', '__eq__', '__format__', '__ge__', '__getattribute__', '__getitem__', '__getnewargs__', '__gt__', '__hash__', '__init__', '__init_subclass__', '__iter__', '__le__', '__len__', '__lt__', '__mul__', '__ne__', '__new__', '__reduce__', '__reduce_ex__', '__repr__', '__rmul__', '__setattr__', '__sizeof__', '__str__', '__subclasshook__', 'count', 'index']\n"
     ]
    }
   ],
   "source": [
    "print(dir(tuple))"
   ]
  },
  {
   "cell_type": "code",
   "execution_count": 4,
   "id": "7dc969d9",
   "metadata": {},
   "outputs": [
    {
     "name": "stdout",
     "output_type": "stream",
     "text": [
      "['__and__', '__class__', '__contains__', '__delattr__', '__dir__', '__doc__', '__eq__', '__format__', '__ge__', '__getattribute__', '__gt__', '__hash__', '__iand__', '__init__', '__init_subclass__', '__ior__', '__isub__', '__iter__', '__ixor__', '__le__', '__len__', '__lt__', '__ne__', '__new__', '__or__', '__rand__', '__reduce__', '__reduce_ex__', '__repr__', '__ror__', '__rsub__', '__rxor__', '__setattr__', '__sizeof__', '__str__', '__sub__', '__subclasshook__', '__xor__', 'add', 'clear', 'copy', 'difference', 'difference_update', 'discard', 'intersection', 'intersection_update', 'isdisjoint', 'issubset', 'issuperset', 'pop', 'remove', 'symmetric_difference', 'symmetric_difference_update', 'union', 'update']\n"
     ]
    }
   ],
   "source": [
    "print(dir(set))"
   ]
  },
  {
   "cell_type": "code",
   "execution_count": 5,
   "id": "cf30b1fa",
   "metadata": {},
   "outputs": [
    {
     "name": "stdout",
     "output_type": "stream",
     "text": [
      "['__class__', '__contains__', '__delattr__', '__delitem__', '__dir__', '__doc__', '__eq__', '__format__', '__ge__', '__getattribute__', '__getitem__', '__gt__', '__hash__', '__init__', '__init_subclass__', '__iter__', '__le__', '__len__', '__lt__', '__ne__', '__new__', '__reduce__', '__reduce_ex__', '__repr__', '__reversed__', '__setattr__', '__setitem__', '__sizeof__', '__str__', '__subclasshook__', 'clear', 'copy', 'fromkeys', 'get', 'items', 'keys', 'pop', 'popitem', 'setdefault', 'update', 'values']\n"
     ]
    }
   ],
   "source": [
    "print(dir(dict))"
   ]
  },
  {
   "cell_type": "code",
   "execution_count": null,
   "id": "60cf339a",
   "metadata": {},
   "outputs": [],
   "source": []
  }
 ],
 "metadata": {
  "kernelspec": {
   "display_name": "Python 3",
   "language": "python",
   "name": "python3"
  },
  "language_info": {
   "codemirror_mode": {
    "name": "ipython",
    "version": 3
   },
   "file_extension": ".py",
   "mimetype": "text/x-python",
   "name": "python",
   "nbconvert_exporter": "python",
   "pygments_lexer": "ipython3",
   "version": "3.8.8"
  }
 },
 "nbformat": 4,
 "nbformat_minor": 5
}
