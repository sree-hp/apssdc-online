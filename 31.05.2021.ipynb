{
 "cells": [
  {
   "cell_type": "code",
   "execution_count": 11,
   "id": "77a69b96",
   "metadata": {},
   "outputs": [
    {
     "name": "stdout",
     "output_type": "stream",
     "text": [
      "good afternoon\n",
      "14\n",
      "t\n",
      "t\n"
     ]
    }
   ],
   "source": [
    "s2=\"good afternoon\"\n",
    "print(s2)\n",
    "print(len(s2))\n",
    "print(s2[7])\n",
    "print(s2[len(s2)//2])"
   ]
  },
  {
   "cell_type": "code",
   "execution_count": 12,
   "id": "2fe6f2bf",
   "metadata": {},
   "outputs": [
    {
     "name": "stdout",
     "output_type": "stream",
     "text": [
      "['__add__', '__class__', '__contains__', '__delattr__', '__dir__', '__doc__', '__eq__', '__format__', '__ge__', '__getattribute__', '__getitem__', '__getnewargs__', '__gt__', '__hash__', '__init__', '__init_subclass__', '__iter__', '__le__', '__len__', '__lt__', '__mod__', '__mul__', '__ne__', '__new__', '__reduce__', '__reduce_ex__', '__repr__', '__rmod__', '__rmul__', '__setattr__', '__sizeof__', '__str__', '__subclasshook__', 'capitalize', 'casefold', 'center', 'count', 'encode', 'endswith', 'expandtabs', 'find', 'format', 'format_map', 'index', 'isalnum', 'isalpha', 'isascii', 'isdecimal', 'isdigit', 'isidentifier', 'islower', 'isnumeric', 'isprintable', 'isspace', 'istitle', 'isupper', 'join', 'ljust', 'lower', 'lstrip', 'maketrans', 'partition', 'replace', 'rfind', 'rindex', 'rjust', 'rpartition', 'rsplit', 'rstrip', 'split', 'splitlines', 'startswith', 'strip', 'swapcase', 'title', 'translate', 'upper', 'zfill']\n"
     ]
    }
   ],
   "source": [
    "print(dir(s2))"
   ]
  },
  {
   "cell_type": "code",
   "execution_count": 16,
   "id": "957da6bb",
   "metadata": {},
   "outputs": [
    {
     "name": "stdout",
     "output_type": "stream",
     "text": [
      "GoodAfternoon\n",
      "False\n"
     ]
    }
   ],
   "source": [
    "a=\"Good\"\n",
    "b=\"Afternoon\"\n",
    "c=a.__add__(b) # addition\n",
    "print(c)\n",
    "d=a.__eq__(b) # equal\n",
    "print(d)        "
   ]
  },
  {
   "cell_type": "code",
   "execution_count": 26,
   "id": "83bc5154",
   "metadata": {},
   "outputs": [
    {
     "name": "stdout",
     "output_type": "stream",
     "text": [
      "['Good', 'afternoon', 'every', 'one', 'from', 'vignan']\n",
      "['hav', ' a gr', 'at day']\n",
      "g&o&o&d& &a&f&t&e&r&n&o&o&n\n",
      "good-afternoon\n"
     ]
    }
   ],
   "source": [
    "s1=\"Good afternoon every one from vignan\"\n",
    "s2=s1.split()\n",
    "print(s2)\n",
    "\n",
    "se=\"have a great day\"\n",
    "sr=se.split('e')\n",
    "print(sr)\n",
    "\n",
    "sn=\"good afternoon\"\n",
    "sl=sn.split()\n",
    "sm=\"&\".join(sn)\n",
    "sa=\"-\".join(sl)\n",
    "print(sm)\n",
    "print(sa)"
   ]
  },
  {
   "cell_type": "code",
   "execution_count": 23,
   "id": "88bd8426",
   "metadata": {},
   "outputs": [
    {
     "name": "stdout",
     "output_type": "stream",
     "text": [
      "gafternoonoafternoonoafternoond\n"
     ]
    }
   ],
   "source": [
    "sl1=\"good\"\n",
    "sl2=\"afternoon\".join(sl1)\n",
    "print(sl2)"
   ]
  },
  {
   "cell_type": "code",
   "execution_count": 28,
   "id": "5718272d",
   "metadata": {},
   "outputs": [
    {
     "name": "stdout",
     "output_type": "stream",
     "text": [
      "Vignan CollEgE of EnginEEring\n"
     ]
    }
   ],
   "source": [
    "h1=\"Vignan College of Engineering\"\n",
    "h2=h1.replace('e',\"E\")\n",
    "print(h2)"
   ]
  },
  {
   "cell_type": "code",
   "execution_count": 12,
   "id": "d6b9c4eb",
   "metadata": {},
   "outputs": [
    {
     "name": "stdout",
     "output_type": "stream",
     "text": [
      "123\n",
      "not a palindrome\n"
     ]
    }
   ],
   "source": [
    "# palindrome\n",
    "st=input()\n",
    "str=st[::-1]\n",
    "if st==str:\n",
    "    print(\"palindrome number\")\n",
    "else: \n",
    "    print(\"not a palindrome\")"
   ]
  },
  {
   "cell_type": "code",
   "execution_count": 14,
   "id": "8d16b2d8",
   "metadata": {},
   "outputs": [
    {
     "name": "stdout",
     "output_type": "stream",
     "text": [
      "Enter a number:121\n",
      "Not a palindrome!\n",
      "Not a palindrome!\n",
      "The number is palindrome!\n"
     ]
    }
   ],
   "source": [
    "num=int(input(\"Enter a number:\"))\n",
    "temp=num\n",
    "rev=0\n",
    "while(num>0):\n",
    "    dig=num%10\n",
    "    rev=rev*10+dig\n",
    "    num=num//10\n",
    "    if(temp==rev):\n",
    "        print(\"The number is palindrome!\")\n",
    "    else:\n",
    "            print(\"Not a palindrome!\")"
   ]
  },
  {
   "cell_type": "code",
   "execution_count": 25,
   "id": "20c77f8a",
   "metadata": {},
   "outputs": [
    {
     "name": "stdout",
     "output_type": "stream",
     "text": [
      "alphabets  GoodMorningHelloWorldByeBye\n",
      "even numbers  24680\n",
      "odd numbers  13579\n"
     ]
    }
   ],
   "source": [
    "# seperate alphabets,even numbers and odd numbers\n",
    "# task2=\"GoodMorningHelloWorldByeBye1234567890\"\n",
    "str1=\"GoodMorningHelloWorldByeBye1234567890\"\n",
    "a=\" \"\n",
    "odd=\" \"\n",
    "even=\" \"\n",
    "for i in str1:\n",
    "    if i.isalpha():\n",
    "        a+=i\n",
    "    elif int(i)%2==0:\n",
    "        even+=i\n",
    "    else:\n",
    "            odd+=i\n",
    "print(\"alphabets\",a)\n",
    "print(\"even numbers\",even)\n",
    "print(\"odd numbers\",odd)"
   ]
  },
  {
   "cell_type": "code",
   "execution_count": 26,
   "id": "a3bed20c",
   "metadata": {},
   "outputs": [
    {
     "name": "stdout",
     "output_type": "stream",
     "text": [
      "alphabets in given string  abcdefghi\n",
      "even numbers  246\n",
      "odd numbers  135\n"
     ]
    }
   ],
   "source": [
    "# seperate alphabets,even numbers,odd numbers\n",
    "vignan=\"abc123def456ghi\"\n",
    "ab=\" \"\n",
    "ev=\" \"\n",
    "od=\" \"\n",
    "for i in vignan:\n",
    "    if i.isalpha():\n",
    "        ab+=i\n",
    "    elif int(i)%2==0:\n",
    "        ev+=i\n",
    "    else:\n",
    "        od+=i\n",
    "print(\"alphabets in given string\",ab)\n",
    "print(\"even numbers\",ev)\n",
    "print(\"odd numbers\",od)        "
   ]
  },
  {
   "cell_type": "code",
   "execution_count": 32,
   "id": "dcd01676",
   "metadata": {},
   "outputs": [
    {
     "name": "stdout",
     "output_type": "stream",
     "text": [
      "3\n"
     ]
    }
   ],
   "source": [
    "# no of occurence of a character\n",
    "s1=\"GoodMorning India\"\n",
    "count=0\n",
    "for i in s1:\n",
    "    if i==\"o\":\n",
    "        count=count+1\n",
    "print(count)"
   ]
  },
  {
   "cell_type": "code",
   "execution_count": null,
   "id": "db1bbf3b",
   "metadata": {},
   "outputs": [],
   "source": []
  }
 ],
 "metadata": {
  "kernelspec": {
   "display_name": "Python 3",
   "language": "python",
   "name": "python3"
  },
  "language_info": {
   "codemirror_mode": {
    "name": "ipython",
    "version": 3
   },
   "file_extension": ".py",
   "mimetype": "text/x-python",
   "name": "python",
   "nbconvert_exporter": "python",
   "pygments_lexer": "ipython3",
   "version": "3.8.8"
  }
 },
 "nbformat": 4,
 "nbformat_minor": 5
}
