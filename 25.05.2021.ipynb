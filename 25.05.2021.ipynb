{
 "cells": [
  {
   "cell_type": "code",
   "execution_count": 1,
   "id": "7facfe41",
   "metadata": {
    "scrolled": true
   },
   "outputs": [
    {
     "name": "stdout",
     "output_type": "stream",
     "text": [
      "hello world!\n"
     ]
    }
   ],
   "source": [
    "print(\"hello world!\")"
   ]
  },
  {
   "cell_type": "code",
   "execution_count": 14,
   "id": "0a2eed5d",
   "metadata": {
    "scrolled": true
   },
   "outputs": [
    {
     "name": "stdout",
     "output_type": "stream",
     "text": [
      "BOOSTERS\n"
     ]
    }
   ],
   "source": [
    "print(\"BOOSTERS\")"
   ]
  },
  {
   "cell_type": "code",
   "execution_count": 12,
   "id": "6a587b12",
   "metadata": {
    "scrolled": false
   },
   "outputs": [
    {
     "name": "stdout",
     "output_type": "stream",
     "text": [
      "laliii\n",
      "sreeee\n",
      "uhaaaa\n"
     ]
    }
   ],
   "source": [
    "print(\"laliii\")\n",
    "print(\"sreeee\")\n",
    "print(\"uhaaaa\")"
   ]
  },
  {
   "cell_type": "code",
   "execution_count": 13,
   "id": "1c2744c4",
   "metadata": {
    "scrolled": true
   },
   "outputs": [
    {
     "name": "stdout",
     "output_type": "stream",
     "text": [
      "soumya\n",
      "sree\n",
      "saba\n",
      "joha\n"
     ]
    }
   ],
   "source": [
    "print(\"soumya\")\n",
    "print(\"sree\")\n",
    "print(\"saba\")\n",
    "print(\"joha\")"
   ]
  },
  {
   "cell_type": "markdown",
   "id": "0924b58e",
   "metadata": {},
   "source": [
    "<h1 style=\"colour:red;font-size:20px\">This is heading1</h1>\n",
    "<i>hai how are you</i>\n",
    "<strong>boldtext</strong>"
   ]
  },
  {
   "cell_type": "markdown",
   "id": "eca1e03d",
   "metadata": {},
   "source": [
    "<img src=\"puppy.jpg\" alt=\"dog name\">"
   ]
  },
  {
   "cell_type": "code",
   "execution_count": 3,
   "id": "a2bbf491",
   "metadata": {},
   "outputs": [
    {
     "name": "stdout",
     "output_type": "stream",
     "text": [
      "Enter a value:sree\n",
      "sree\n"
     ]
    }
   ],
   "source": [
    "s=input(\"Enter a value:\")\n",
    "print(s)"
   ]
  },
  {
   "cell_type": "code",
   "execution_count": 4,
   "id": "957b7b03",
   "metadata": {},
   "outputs": [
    {
     "name": "stdout",
     "output_type": "stream",
     "text": [
      "42\n",
      "18\n",
      "360\n",
      "2.5\n",
      "2\n",
      "6\n"
     ]
    }
   ],
   "source": [
    "a=30\n",
    "b=12\n",
    "print(a+b)\n",
    "print(a-b)\n",
    "print(a*b)\n",
    "print(a/b)\n",
    "print(a//b)\n",
    "print(a%b)"
   ]
  },
  {
   "cell_type": "code",
   "execution_count": 10,
   "id": "3eb3daea",
   "metadata": {},
   "outputs": [
    {
     "name": "stdout",
     "output_type": "stream",
     "text": [
      "False\n",
      "True\n",
      "False\n",
      "False\n",
      "True\n",
      "True\n",
      "True\n",
      "False\n"
     ]
    },
    {
     "data": {
      "text/plain": [
       "True"
      ]
     },
     "execution_count": 10,
     "metadata": {},
     "output_type": "execute_result"
    }
   ],
   "source": [
    "# logical operator(and,or,not)\n",
    "print(True and False)\n",
    "print(True and True)\n",
    "print(False and True)\n",
    "print(False and False)\n",
    "\n",
    "print(True or False)\n",
    "print(True or True)\n",
    "print(False or True)\n",
    "print(False or False)\n",
    "\n",
    "x=10\n",
    "y=10\n",
    "x is y"
   ]
  },
  {
   "cell_type": "code",
   "execution_count": 14,
   "id": "237619b1",
   "metadata": {},
   "outputs": [
    {
     "name": "stdout",
     "output_type": "stream",
     "text": [
      "200\n",
      "150\n",
      "15.0\n",
      "5.0\n"
     ]
    }
   ],
   "source": [
    "# assignment operator\n",
    "a=10\n",
    "#a+=10\n",
    "#print(a)\n",
    "\n",
    "a*=20\n",
    "print(a)\n",
    "\n",
    "a-=50\n",
    "print(a)\n",
    "a/=10\n",
    "print(a)\n",
    "a%=10\n",
    "print(a)"
   ]
  },
  {
   "cell_type": "code",
   "execution_count": 27,
   "id": "9f1b7305",
   "metadata": {},
   "outputs": [
    {
     "data": {
      "text/plain": [
       "False"
      ]
     },
     "execution_count": 27,
     "metadata": {},
     "output_type": "execute_result"
    }
   ],
   "source": [
    "#comparision operator\n",
    "a=10\n",
    "b=10\n",
    "a>b\n",
    "a<b\n",
    "a<=b\n",
    "a>=b\n",
    "a==b\n",
    "a!=b"
   ]
  },
  {
   "cell_type": "code",
   "execution_count": 29,
   "id": "7542c6ff",
   "metadata": {},
   "outputs": [
    {
     "data": {
      "text/plain": [
       "False"
      ]
     },
     "execution_count": 29,
     "metadata": {},
     "output_type": "execute_result"
    }
   ],
   "source": [
    "# identity operator\n",
    "a is b\n",
    "a is not b"
   ]
  },
  {
   "cell_type": "code",
   "execution_count": 32,
   "id": "9b427f87",
   "metadata": {},
   "outputs": [
    {
     "name": "stdout",
     "output_type": "stream",
     "text": [
      "True\n",
      "True\n",
      "False\n",
      "True\n"
     ]
    }
   ],
   "source": [
    "# membership operator\n",
    "a=\"surya\"\n",
    "print(\"r\" in a)\n",
    "print(\"s\" in a)\n",
    "print(\"z\" in a)\n",
    "print(\"z\" not in a)"
   ]
  },
  {
   "cell_type": "markdown",
   "id": "604d6912",
   "metadata": {},
   "source": [
    "# conditional statements\n",
    "### if--> checks for single case\n",
    "##### syntax:\n",
    "     if(condition):\n",
    "     //statements\n",
    "     \n",
    "### if else--> checks the condition is true or false\n",
    "##### syntax:\n",
    "     if(condition):\n",
    "     //statements\n",
    "     else:\n",
    "     //statements\n",
    "     \n",
    "### nested if-->  if condition is true it checks inner if (or) else (or) it returns the else part\n",
    "##### syntax:\n",
    "      if(condition1):\n",
    "       //statements\n",
    "          if(condition2):\n",
    "             //statements\n",
    "          else:\n",
    "             //statements\n",
    "       else:\n",
    "       //statements\n",
    "      \n",
    "### else if--->checks n number of cases\n",
    "##### syntax:\n",
    "     if(condition1):\n",
    "       //statements\n",
    "      elif(condition2):\n",
    "        //statements\n",
    "       elif(condition3):\n",
    "        //statements\n",
    "       else:\n",
    "        //statements"
   ]
  },
  {
   "cell_type": "code",
   "execution_count": 33,
   "id": "0e8e8c0b",
   "metadata": {},
   "outputs": [
    {
     "name": "stdout",
     "output_type": "stream",
     "text": [
      "20 is big\n"
     ]
    }
   ],
   "source": [
    "# biggest of two numbers\n",
    "a=20\n",
    "b=10\n",
    "if(a>b):\n",
    "    print(\"{} is big\".format(a))"
   ]
  },
  {
   "cell_type": "code",
   "execution_count": 35,
   "id": "e64650d8",
   "metadata": {},
   "outputs": [
    {
     "name": "stdout",
     "output_type": "stream",
     "text": [
      "40\n",
      "30\n",
      "40 is big\n"
     ]
    }
   ],
   "source": [
    "a=int(input())\n",
    "b=int(input())\n",
    "if(a>b):\n",
    "    print(\"{} is big\".format(a))\n",
    "else:\n",
    "    print(\"{} is big\".format(b))"
   ]
  },
  {
   "cell_type": "code",
   "execution_count": 39,
   "id": "e194539b",
   "metadata": {},
   "outputs": [
    {
     "name": "stdout",
     "output_type": "stream",
     "text": [
      "enter the age:15\n",
      "not eligible to vote\n"
     ]
    }
   ],
   "source": [
    "# eligible to vote\n",
    "a=int(input(\"enter the age:\"))\n",
    "if(a>=18):\n",
    "  print(\"eligible to vote\")\n",
    "else:\n",
    "    print(\"not eligible to vote\")"
   ]
  },
  {
   "cell_type": "code",
   "execution_count": 47,
   "id": "91ffaa2d",
   "metadata": {},
   "outputs": [
    {
     "name": "stdout",
     "output_type": "stream",
     "text": [
      "35\n"
     ]
    }
   ],
   "source": [
    "# biggest of three numbers\n",
    "a=35\n",
    "b=20\n",
    "c=30\n",
    "if(a>b):\n",
    "    if(a>c):\n",
    "        print(a)\n",
    "    else:\n",
    "        print(c)\n",
    "if(b>a):\n",
    "    if(b>c):\n",
    "        print(b)\n",
    "    else:\n",
    "        print(c)"
   ]
  },
  {
   "cell_type": "code",
   "execution_count": 51,
   "id": "52fa044e",
   "metadata": {},
   "outputs": [
    {
     "name": "stdout",
     "output_type": "stream",
     "text": [
      "5\n",
      "5 is odd number\n"
     ]
    }
   ],
   "source": [
    "# check the given number is even or odd\n",
    "a=int(input())\n",
    "if(a%2==0):\n",
    "     print(\"{} is even number\".format(a))\n",
    "else:\n",
    "    print(\"{} is odd number\".format(a))"
   ]
  },
  {
   "cell_type": "code",
   "execution_count": 1,
   "id": "d4b9c365",
   "metadata": {},
   "outputs": [
    {
     "name": "stdout",
     "output_type": "stream",
     "text": [
      "enter number to check:50\n",
      "20\n",
      "30\n",
      "number is not in given range\n"
     ]
    }
   ],
   "source": [
    "# check the given number is in given range or not\n",
    "a=int(input(\"enter number to check:\"))\n",
    "b=int(input())\n",
    "c=int(input())\n",
    "if((a>=b) and (a<=c)):\n",
    "     print(\"number is in given range\")\n",
    "else:\n",
    "     print(\"number is not in given range\")"
   ]
  },
  {
   "cell_type": "code",
   "execution_count": 3,
   "id": "b894beb0",
   "metadata": {},
   "outputs": [
    {
     "name": "stdout",
     "output_type": "stream",
     "text": [
      "123 is equal to 123\n"
     ]
    }
   ],
   "source": [
    "# check if given string is equal to number or not\n",
    "s=\"123\"\n",
    "n=123\n",
    "if(str(n)==s):\n",
    "    print(n,\"is equal to\",s)\n",
    "else:\n",
    "        print(n,\"is not equal to\",s)"
   ]
  },
  {
   "cell_type": "markdown",
   "id": "771091a2",
   "metadata": {},
   "source": [
    "# initialization of loop\n",
    "## condition checking\n",
    "### in/decreement\n",
    "### while\n",
    "### for loop\n",
    "### nested loop\n",
    "### loop control systems"
   ]
  },
  {
   "cell_type": "code",
   "execution_count": 2,
   "id": "8e2018b1",
   "metadata": {},
   "outputs": [
    {
     "name": "stdout",
     "output_type": "stream",
     "text": [
      "GoodMorningGoodMorningGoodMorningGoodMorningGoodMorningGoodMorningGoodMorningGoodMorningGoodMorningGoodMorning\n"
     ]
    }
   ],
   "source": [
    "print(\"GoodMorning\"*10)"
   ]
  },
  {
   "cell_type": "code",
   "execution_count": 6,
   "id": "46c65dc5",
   "metadata": {},
   "outputs": [
    {
     "name": "stdout",
     "output_type": "stream",
     "text": [
      "0,1,2,3,4,5,6,7,8,9,10,"
     ]
    }
   ],
   "source": [
    "i=0 # initialization\n",
    "while i<=10: # condition checking\n",
    "    print(i, end=\",\") # body of loop\n",
    "    i=i+1 # increement"
   ]
  },
  {
   "cell_type": "code",
   "execution_count": 1,
   "id": "ee2777be",
   "metadata": {},
   "outputs": [
    {
     "name": "stdout",
     "output_type": "stream",
     "text": [
      "10,9,8,7,6,5,4,3,2,1,0,"
     ]
    }
   ],
   "source": [
    "i=10\n",
    "while i>=0:\n",
    "    print(i, end=\",\")\n",
    "    i=i-1"
   ]
  },
  {
   "cell_type": "code",
   "execution_count": 1,
   "id": "5882bdd9",
   "metadata": {},
   "outputs": [
    {
     "name": "stdout",
     "output_type": "stream",
     "text": [
      "0\n",
      "2\n",
      "4\n",
      "6\n",
      "8\n",
      "10\n"
     ]
    }
   ],
   "source": [
    "# print even numbers \n",
    "i=0\n",
    "while i<=10:\n",
    "    if i%2==0:\n",
    "        print(i)\n",
    "    i=i+1"
   ]
  },
  {
   "cell_type": "code",
   "execution_count": 6,
   "id": "d3206050",
   "metadata": {},
   "outputs": [
    {
     "name": "stdout",
     "output_type": "stream",
     "text": [
      "the even number is: 0\n",
      "the odd number is: 1\n",
      "the even number is: 2\n",
      "the odd number is: 3\n",
      "the even number is: 4\n",
      "the odd number is: 5\n",
      "the even number is: 6\n",
      "the odd number is: 7\n",
      "the even number is: 8\n",
      "the odd number is: 9\n",
      "the even number is: 10\n"
     ]
    }
   ],
   "source": [
    "# print even and odd numbers\n",
    "i=0\n",
    "while i<=10:\n",
    "    if i%2==0:\n",
    "        print(\"the even number is:\",i)\n",
    "    else:\n",
    "            print(\"the odd number is:\",i)\n",
    "    i=i+1   "
   ]
  },
  {
   "cell_type": "code",
   "execution_count": 7,
   "id": "317f84f5",
   "metadata": {},
   "outputs": [
    {
     "name": "stdout",
     "output_type": "stream",
     "text": [
      "\n",
      "*\n",
      "**\n",
      "***\n",
      "****\n",
      "*****\n"
     ]
    }
   ],
   "source": [
    "# pattern \n",
    "i=0\n",
    "while i<=5:\n",
    "    print(\"*\"*i)\n",
    "    i=i+1"
   ]
  },
  {
   "cell_type": "code",
   "execution_count": 8,
   "id": "872209c4",
   "metadata": {},
   "outputs": [
    {
     "name": "stdout",
     "output_type": "stream",
     "text": [
      "*****\n",
      "****\n",
      "***\n",
      "**\n",
      "*\n",
      "\n"
     ]
    }
   ],
   "source": [
    "i=5\n",
    "while i>=0:\n",
    "    print(\"*\"*i)\n",
    "    i=i-1"
   ]
  },
  {
   "cell_type": "code",
   "execution_count": 10,
   "id": "948d630c",
   "metadata": {},
   "outputs": [
    {
     "name": "stdout",
     "output_type": "stream",
     "text": [
      "😊😊😊😊😊\n",
      "😊😊😊😊\n",
      "😊😊😊\n",
      "😊😊\n",
      "😊\n",
      "\n"
     ]
    }
   ],
   "source": [
    "i=5\n",
    "while i>=0:\n",
    "    print(\"😊\"*i)\n",
    "    i=i-1"
   ]
  },
  {
   "cell_type": "code",
   "execution_count": 11,
   "id": "c5e91765",
   "metadata": {},
   "outputs": [
    {
     "name": "stdout",
     "output_type": "stream",
     "text": [
      "\n",
      "😊\n",
      "😊😊\n",
      "😊😊😊\n",
      "😊😊😊😊\n",
      "😊😊😊😊😊\n"
     ]
    }
   ],
   "source": [
    "i=0\n",
    "while i<=5:\n",
    "    print(\"😊\"*i)\n",
    "    i=i+1"
   ]
  },
  {
   "cell_type": "code",
   "execution_count": 17,
   "id": "d38c2167",
   "metadata": {},
   "outputs": [
    {
     "name": "stdout",
     "output_type": "stream",
     "text": [
      "5\n",
      "1\n",
      "3\n",
      "6\n",
      "10\n",
      "15\n"
     ]
    }
   ],
   "source": [
    "# sum of numbers\n",
    "i=1\n",
    "sum=0\n",
    "a=int(input())\n",
    "while i<=a:\n",
    "    sum=sum+i\n",
    "    print(sum)\n",
    "    i=i+1"
   ]
  },
  {
   "cell_type": "code",
   "execution_count": 20,
   "id": "dddc3b70",
   "metadata": {},
   "outputs": [
    {
     "name": "stdout",
     "output_type": "stream",
     "text": [
      "\n",
      "😊\n",
      "😊😊\n",
      "😊😊😊\n",
      "😊😊😊😊\n",
      "😊😊😊😊😊\n",
      "😊😊😊😊😊\n",
      "😊😊😊😊\n",
      "😊😊😊\n",
      "😊😊\n",
      "😊\n",
      "\n"
     ]
    }
   ],
   "source": [
    "i=0\n",
    "while i<=5:\n",
    "    print(\"😊\"*i)\n",
    "    i=i+1\n",
    "i=5\n",
    "while i>=0:\n",
    "    print(\"😊\"*i)\n",
    "    i=i-1   "
   ]
  },
  {
   "cell_type": "code",
   "execution_count": 21,
   "id": "fa20eb5b",
   "metadata": {},
   "outputs": [
    {
     "name": "stdout",
     "output_type": "stream",
     "text": [
      "enter the range\n",
      "5\n",
      "10\n",
      "5 + 6 + 7 + 8 + 9 + 10 + = 45\n"
     ]
    }
   ],
   "source": [
    "# sum of digits\n",
    "\n",
    "print(\"enter the range\")\n",
    "x=int(input())\n",
    "y=int(input())\n",
    "sum=0\n",
    "\n",
    "while(x<=y):\n",
    "    print(x,\"+ \", end=\"\" )  \n",
    "    sum+=x;\n",
    "    x+=1\n",
    "    \n",
    "print(\"= {}\".format(sum))"
   ]
  },
  {
   "cell_type": "code",
   "execution_count": 24,
   "id": "6f92eafa",
   "metadata": {},
   "outputs": [
    {
     "name": "stdout",
     "output_type": "stream",
     "text": [
      "enter the number:6\n",
      "1\n",
      "2\n",
      "6\n",
      "24\n",
      "120\n",
      "720\n"
     ]
    }
   ],
   "source": [
    "# factorial of given number\n",
    "a=int(input(\"enter the number:\"))\n",
    "fac=1\n",
    "i=1\n",
    "while i<=a:\n",
    "    fac=fac*i\n",
    "    print(fac)\n",
    "    i=i+1"
   ]
  },
  {
   "cell_type": "code",
   "execution_count": 25,
   "id": "22ef8081",
   "metadata": {},
   "outputs": [],
   "source": [
    "# reverse of a number using while loop\n"
   ]
  },
  {
   "cell_type": "markdown",
   "id": "f015db4e",
   "metadata": {},
   "source": [
    "# loop control statements\n",
    "### break\n",
    "### continue\n",
    "### pass"
   ]
  },
  {
   "cell_type": "code",
   "execution_count": 1,
   "id": "1d82201b",
   "metadata": {},
   "outputs": [
    {
     "name": "stdout",
     "output_type": "stream",
     "text": [
      "2\n",
      "3\n"
     ]
    }
   ],
   "source": [
    "i=1\n",
    "while i<10:\n",
    "    if i==3:\n",
    "        break\n",
    "    i=i+1\n",
    "    print(i)"
   ]
  },
  {
   "cell_type": "code",
   "execution_count": 1,
   "id": "2c7d3df5",
   "metadata": {},
   "outputs": [
    {
     "name": "stdout",
     "output_type": "stream",
     "text": [
      "2\n",
      "4\n",
      "5\n",
      "6\n",
      "7\n",
      "8\n",
      "9\n",
      "10\n"
     ]
    }
   ],
   "source": [
    "i=1\n",
    "while i<10:\n",
    "    i=i+1\n",
    "    if i==3:\n",
    "        continue\n",
    "    print(i)   "
   ]
  },
  {
   "cell_type": "markdown",
   "id": "485e81f9",
   "metadata": {},
   "source": [
    "#### start value for loop\n",
    "#### end value for loop\n",
    "#### step in/de\n",
    "#### for kl in (0,10,2):\n",
    "#### for kl in range(0,10,2):"
   ]
  },
  {
   "cell_type": "code",
   "execution_count": 2,
   "id": "84874e25",
   "metadata": {},
   "outputs": [
    {
     "name": "stdout",
     "output_type": "stream",
     "text": [
      "0\n",
      "10\n",
      "2\n"
     ]
    }
   ],
   "source": [
    "for vignan in (0,10,2):\n",
    "    print(vignan)"
   ]
  },
  {
   "cell_type": "code",
   "execution_count": 3,
   "id": "0572d664",
   "metadata": {},
   "outputs": [
    {
     "name": "stdout",
     "output_type": "stream",
     "text": [
      "0\n",
      "2\n",
      "4\n",
      "6\n",
      "8\n"
     ]
    }
   ],
   "source": [
    "for kl in range(0,10,2):\n",
    "    print (kl)"
   ]
  },
  {
   "cell_type": "code",
   "execution_count": 4,
   "id": "9a0aed81",
   "metadata": {},
   "outputs": [
    {
     "name": "stdout",
     "output_type": "stream",
     "text": [
      "0\n",
      "1\n",
      "2\n",
      "3\n",
      "4\n",
      "5\n",
      "6\n",
      "7\n",
      "8\n",
      "9\n",
      "10\n"
     ]
    }
   ],
   "source": [
    "for val in range(10+1):\n",
    "    print(val)"
   ]
  },
  {
   "cell_type": "code",
   "execution_count": 6,
   "id": "a4def935",
   "metadata": {},
   "outputs": [
    {
     "name": "stdout",
     "output_type": "stream",
     "text": [
      "10,12,14,16,18,20,22,24,26,28,30,32,34,36,38,40,42,44,46,48,50,52,54,56,58,60,62,64,66,68,70,72,74,76,78,80,82,84,86,88,90,92,94,96,98,"
     ]
    }
   ],
   "source": [
    "for i in range(10,100,2):\n",
    "    print(i, end=\",\")"
   ]
  },
  {
   "cell_type": "code",
   "execution_count": 8,
   "id": "55f0dda8",
   "metadata": {},
   "outputs": [
    {
     "name": "stdout",
     "output_type": "stream",
     "text": [
      "500,502,504,506,508,510,512,514,516,518,520,522,524,526,528,530,532,534,536,538,540,542,544,546,548,550,552,554,556,558,560,562,564,566,568,570,572,574,576,578,580,582,584,586,588,590,592,594,596,598,600,602,604,606,608,610,612,614,616,618,620,622,624,626,628,630,632,634,636,638,640,642,644,646,648,650,652,654,656,658,660,662,664,666,668,670,672,674,676,678,680,682,684,686,688,690,692,694,696,698,700,702,704,706,708,710,712,714,716,718,720,722,724,726,728,730,732,734,736,738,740,742,744,746,748,750,752,754,756,758,760,762,764,766,768,770,772,774,776,778,780,782,784,786,788,790,792,794,796,798,800,802,804,806,808,810,812,814,816,818,820,822,824,826,828,830,832,834,836,838,840,842,844,846,848,850,852,854,856,858,860,862,864,866,868,870,872,874,876,878,880,882,884,886,888,890,892,894,896,898,900,902,904,906,908,910,912,914,916,918,920,922,924,926,928,930,932,934,936,938,940,942,944,946,948,950,952,954,956,958,960,962,964,966,968,970,972,974,976,978,980,982,984,986,988,990,992,994,996,998,1000,"
     ]
    }
   ],
   "source": [
    "for i in range(500,1000+1,2):\n",
    "    print(i, end=\",\")"
   ]
  },
  {
   "cell_type": "code",
   "execution_count": 11,
   "id": "3de00f4d",
   "metadata": {},
   "outputs": [
    {
     "name": "stdout",
     "output_type": "stream",
     "text": [
      "100,98,96,94,92,90,88,86,84,82,80,78,76,74,72,70,68,66,64,62,60,58,56,54,52,50,48,46,44,42,40,38,36,34,32,30,28,26,24,22,20,18,16,14,12,"
     ]
    }
   ],
   "source": [
    "for i in range(100,10,-2):\n",
    "    print(i, end=\",\")"
   ]
  },
  {
   "cell_type": "code",
   "execution_count": 16,
   "id": "8b78b12f",
   "metadata": {},
   "outputs": [
    {
     "name": "stdout",
     "output_type": "stream",
     "text": [
      "Good Afternoon,Good Afternoon,Good Afternoon,Good Afternoon,Good Afternoon,Good Afternoon,Good Afternoon,Good Afternoon,Good Afternoon,Good Afternoon,Good Afternoon,Good Afternoon,Good Afternoon,Good Afternoon,Good Afternoon,Good Afternoon,Good Afternoon,Good Afternoon,Good Afternoon,Good Afternoon,Good Afternoon,Good Afternoon,Good Afternoon,Good Afternoon,Good Afternoon,Good Afternoon,Good Afternoon,Good Afternoon,Good Afternoon,Good Afternoon,Good Afternoon,Good Afternoon,Good Afternoon,Good Afternoon,Good Afternoon,Good Afternoon,Good Afternoon,Good Afternoon,Good Afternoon,Good Afternoon,Good Afternoon,Good Afternoon,Good Afternoon,Good Afternoon,Good Afternoon,Good Afternoon,Good Afternoon,Good Afternoon,Good Afternoon,Good Afternoon,Good Afternoon,Good Afternoon,Good Afternoon,Good Afternoon,Good Afternoon,Good Afternoon,Good Afternoon,Good Afternoon,Good Afternoon,Good Afternoon,Good Afternoon,Good Afternoon,Good Afternoon,Good Afternoon,Good Afternoon,Good Afternoon,Good Afternoon,Good Afternoon,Good Afternoon,Good Afternoon,Good Afternoon,Good Afternoon,Good Afternoon,Good Afternoon,Good Afternoon,Good Afternoon,Good Afternoon,Good Afternoon,Good Afternoon,Good Afternoon,Good Afternoon,Good Afternoon,Good Afternoon,Good Afternoon,Good Afternoon,Good Afternoon,Good Afternoon,Good Afternoon,Good Afternoon,Good Afternoon,Good Afternoon,Good Afternoon,Good Afternoon,Good Afternoon,Good Afternoon,Good Afternoon,Good Afternoon,Good Afternoon,Good Afternoon,Good Afternoon,"
     ]
    }
   ],
   "source": [
    "for i in range(100):\n",
    "    print(\"Good Afternoon\", end=\",\")"
   ]
  },
  {
   "cell_type": "code",
   "execution_count": 25,
   "id": "816115f0",
   "metadata": {},
   "outputs": [
    {
     "name": "stdout",
     "output_type": "stream",
     "text": [
      "48,46,44,42,40,38,36,34,32,30,28,26,24,22,20,18,16,14,12,10,"
     ]
    }
   ],
   "source": [
    "for i in reversed(range(10,50,2)):\n",
    "    print(i, end=\",\")"
   ]
  },
  {
   "cell_type": "code",
   "execution_count": null,
   "id": "622a534e",
   "metadata": {},
   "outputs": [],
   "source": []
  }
 ],
 "metadata": {
  "kernelspec": {
   "display_name": "Python 3",
   "language": "python",
   "name": "python3"
  },
  "language_info": {
   "codemirror_mode": {
    "name": "ipython",
    "version": 3
   },
   "file_extension": ".py",
   "mimetype": "text/x-python",
   "name": "python",
   "nbconvert_exporter": "python",
   "pygments_lexer": "ipython3",
   "version": "3.8.8"
  }
 },
 "nbformat": 4,
 "nbformat_minor": 5
}
