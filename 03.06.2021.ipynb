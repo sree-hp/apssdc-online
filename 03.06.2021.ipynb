{
 "cells": [
  {
   "cell_type": "markdown",
   "id": "f66d98e6",
   "metadata": {},
   "source": [
    "Tuple\n",
    "* Collection of multiple data\n",
    "* Immutable\n",
    "* Ordered and indexed(slicing is possible)\n",
    "* Duplicate is allowed\n",
    "* It is represented using ()"
   ]
  },
  {
   "cell_type": "code",
   "execution_count": 1,
   "id": "ff4c60be",
   "metadata": {},
   "outputs": [
    {
     "name": "stdout",
     "output_type": "stream",
     "text": [
      "['__add__', '__class__', '__contains__', '__delattr__', '__dir__', '__doc__', '__eq__', '__format__', '__ge__', '__getattribute__', '__getitem__', '__getnewargs__', '__gt__', '__hash__', '__init__', '__init_subclass__', '__iter__', '__le__', '__len__', '__lt__', '__mul__', '__ne__', '__new__', '__reduce__', '__reduce_ex__', '__repr__', '__rmul__', '__setattr__', '__sizeof__', '__str__', '__subclasshook__', 'count', 'index']\n"
     ]
    }
   ],
   "source": [
    "print(dir(tuple))"
   ]
  },
  {
   "cell_type": "code",
   "execution_count": 2,
   "id": "e476fe59",
   "metadata": {},
   "outputs": [
    {
     "name": "stdout",
     "output_type": "stream",
     "text": [
      "['__and__', '__class__', '__contains__', '__delattr__', '__dir__', '__doc__', '__eq__', '__format__', '__ge__', '__getattribute__', '__gt__', '__hash__', '__iand__', '__init__', '__init_subclass__', '__ior__', '__isub__', '__iter__', '__ixor__', '__le__', '__len__', '__lt__', '__ne__', '__new__', '__or__', '__rand__', '__reduce__', '__reduce_ex__', '__repr__', '__ror__', '__rsub__', '__rxor__', '__setattr__', '__sizeof__', '__str__', '__sub__', '__subclasshook__', '__xor__', 'add', 'clear', 'copy', 'difference', 'difference_update', 'discard', 'intersection', 'intersection_update', 'isdisjoint', 'issubset', 'issuperset', 'pop', 'remove', 'symmetric_difference', 'symmetric_difference_update', 'union', 'update']\n"
     ]
    }
   ],
   "source": [
    "print(dir(set))"
   ]
  },
  {
   "cell_type": "code",
   "execution_count": 3,
   "id": "8807a35a",
   "metadata": {},
   "outputs": [
    {
     "name": "stdout",
     "output_type": "stream",
     "text": [
      "['__class__', '__contains__', '__delattr__', '__delitem__', '__dir__', '__doc__', '__eq__', '__format__', '__ge__', '__getattribute__', '__getitem__', '__gt__', '__hash__', '__init__', '__init_subclass__', '__iter__', '__le__', '__len__', '__lt__', '__ne__', '__new__', '__reduce__', '__reduce_ex__', '__repr__', '__reversed__', '__setattr__', '__setitem__', '__sizeof__', '__str__', '__subclasshook__', 'clear', 'copy', 'fromkeys', 'get', 'items', 'keys', 'pop', 'popitem', 'setdefault', 'update', 'values']\n"
     ]
    }
   ],
   "source": [
    "print(dir(dict))"
   ]
  },
  {
   "cell_type": "code",
   "execution_count": 4,
   "id": "5f6d926a",
   "metadata": {},
   "outputs": [
    {
     "data": {
      "text/plain": [
       "tuple"
      ]
     },
     "execution_count": 4,
     "metadata": {},
     "output_type": "execute_result"
    }
   ],
   "source": [
    "t=()\n",
    "type(t)"
   ]
  },
  {
   "cell_type": "code",
   "execution_count": 5,
   "id": "7577b8b5",
   "metadata": {},
   "outputs": [
    {
     "data": {
      "text/plain": [
       "('surya', 1, 3.2, 1, 2, 2, 'venkat', [1, 2, 3])"
      ]
     },
     "execution_count": 5,
     "metadata": {},
     "output_type": "execute_result"
    }
   ],
   "source": [
    "t=(\"surya\",1,3.2,1,2,2,\"venkat\",[1,2,3])\n",
    "t # elements are stored in order"
   ]
  },
  {
   "cell_type": "code",
   "execution_count": 6,
   "id": "03cc84e4",
   "metadata": {},
   "outputs": [
    {
     "ename": "AttributeError",
     "evalue": "'tuple' object has no attribute 'append'",
     "output_type": "error",
     "traceback": [
      "\u001b[1;31m---------------------------------------------------------------------------\u001b[0m",
      "\u001b[1;31mAttributeError\u001b[0m                            Traceback (most recent call last)",
      "\u001b[1;32m<ipython-input-6-cba90fb8b5fa>\u001b[0m in \u001b[0;36m<module>\u001b[1;34m\u001b[0m\n\u001b[1;32m----> 1\u001b[1;33m \u001b[0mt\u001b[0m\u001b[1;33m.\u001b[0m\u001b[0mappend\u001b[0m\u001b[1;33m(\u001b[0m\u001b[1;36m45\u001b[0m\u001b[1;33m)\u001b[0m\u001b[1;33m\u001b[0m\u001b[1;33m\u001b[0m\u001b[0m\n\u001b[0m",
      "\u001b[1;31mAttributeError\u001b[0m: 'tuple' object has no attribute 'append'"
     ]
    }
   ],
   "source": [
    "t.append(45)"
   ]
  },
  {
   "cell_type": "code",
   "execution_count": 7,
   "id": "625b4258",
   "metadata": {},
   "outputs": [
    {
     "ename": "AttributeError",
     "evalue": "'tuple' object has no attribute 'remove'",
     "output_type": "error",
     "traceback": [
      "\u001b[1;31m---------------------------------------------------------------------------\u001b[0m",
      "\u001b[1;31mAttributeError\u001b[0m                            Traceback (most recent call last)",
      "\u001b[1;32m<ipython-input-7-33bb8d72e648>\u001b[0m in \u001b[0;36m<module>\u001b[1;34m\u001b[0m\n\u001b[1;32m----> 1\u001b[1;33m \u001b[0mt\u001b[0m\u001b[1;33m.\u001b[0m\u001b[0mremove\u001b[0m\u001b[1;33m(\u001b[0m\u001b[1;34m\"remove\"\u001b[0m\u001b[1;33m)\u001b[0m\u001b[1;33m\u001b[0m\u001b[1;33m\u001b[0m\u001b[0m\n\u001b[0m\u001b[0;32m      2\u001b[0m \u001b[0mt\u001b[0m\u001b[1;33m.\u001b[0m\u001b[0mpop\u001b[0m\u001b[1;33m(\u001b[0m\u001b[1;33m)\u001b[0m\u001b[1;33m\u001b[0m\u001b[1;33m\u001b[0m\u001b[0m\n",
      "\u001b[1;31mAttributeError\u001b[0m: 'tuple' object has no attribute 'remove'"
     ]
    }
   ],
   "source": [
    "t.remove(\"remove\") # append,remove,pop are not in tuple\n",
    "t.pop()"
   ]
  },
  {
   "cell_type": "code",
   "execution_count": 8,
   "id": "42352c97",
   "metadata": {},
   "outputs": [
    {
     "name": "stdout",
     "output_type": "stream",
     "text": [
      "('surya', 1, 3.2, 1, 2, 2, 'venkat', [1, 2, 3])\n",
      "('surya', 1, 3.2, 1, 2)\n",
      "[1, 2, 3]\n",
      "(2, 2, 'venkat')\n"
     ]
    }
   ],
   "source": [
    "print(t[0:])\n",
    "print(t[0:5])\n",
    "print(t[-1])\n",
    "print(t[-4:-1])"
   ]
  },
  {
   "cell_type": "code",
   "execution_count": 9,
   "id": "f35fb999",
   "metadata": {},
   "outputs": [
    {
     "data": {
      "text/plain": [
       "2"
      ]
     },
     "execution_count": 9,
     "metadata": {},
     "output_type": "execute_result"
    }
   ],
   "source": [
    "t.count(2) # element is passed, gives how many r present"
   ]
  },
  {
   "cell_type": "code",
   "execution_count": 11,
   "id": "b580f7c2",
   "metadata": {},
   "outputs": [
    {
     "name": "stdout",
     "output_type": "stream",
     "text": [
      "1\n",
      "0\n"
     ]
    }
   ],
   "source": [
    "print(t.count(\"surya\"))\n",
    "print(t.index(\"surya\"))"
   ]
  },
  {
   "cell_type": "markdown",
   "id": "dbeed1b4",
   "metadata": {},
   "source": [
    "# SET\n",
    "* collection of multiple data\n",
    "* does not allow duplicate\n",
    "* unordered and unindexed(slicing not possible)\n",
    "* it is represented using {}\n",
    "* mutuable- we can change the values"
   ]
  },
  {
   "cell_type": "code",
   "execution_count": 12,
   "id": "bcbf3785",
   "metadata": {},
   "outputs": [
    {
     "name": "stdout",
     "output_type": "stream",
     "text": [
      "['__and__', '__class__', '__contains__', '__delattr__', '__dir__', '__doc__', '__eq__', '__format__', '__ge__', '__getattribute__', '__gt__', '__hash__', '__iand__', '__init__', '__init_subclass__', '__ior__', '__isub__', '__iter__', '__ixor__', '__le__', '__len__', '__lt__', '__ne__', '__new__', '__or__', '__rand__', '__reduce__', '__reduce_ex__', '__repr__', '__ror__', '__rsub__', '__rxor__', '__setattr__', '__sizeof__', '__str__', '__sub__', '__subclasshook__', '__xor__', 'add', 'clear', 'copy', 'difference', 'difference_update', 'discard', 'intersection', 'intersection_update', 'isdisjoint', 'issubset', 'issuperset', 'pop', 'remove', 'symmetric_difference', 'symmetric_difference_update', 'union', 'update']\n"
     ]
    }
   ],
   "source": [
    "print(dir(set))"
   ]
  },
  {
   "cell_type": "code",
   "execution_count": 13,
   "id": "70e58ee9",
   "metadata": {},
   "outputs": [],
   "source": [
    "# union (AUB)\n",
    "# intersection (common)\n",
    "# difference (A-B, elements in A will be displayed)\n",
    "# symmetric difference (opp to intersection)\n",
    "# subset (indise the superset)\n",
    "# superset (If a inside b,a is subset of b,b is superset of b)\n",
    "# disjoint (never meet/ no intersection)"
   ]
  },
  {
   "cell_type": "code",
   "execution_count": 14,
   "id": "17f69f9c",
   "metadata": {},
   "outputs": [
    {
     "data": {
      "text/plain": [
       "dict"
      ]
     },
     "execution_count": 14,
     "metadata": {},
     "output_type": "execute_result"
    }
   ],
   "source": [
    "s={}\n",
    "type(s)"
   ]
  },
  {
   "cell_type": "code",
   "execution_count": 15,
   "id": "842ef87b",
   "metadata": {},
   "outputs": [
    {
     "data": {
      "text/plain": [
       "set"
      ]
     },
     "execution_count": 15,
     "metadata": {},
     "output_type": "execute_result"
    }
   ],
   "source": [
    "s=set()\n",
    "type(s)"
   ]
  },
  {
   "cell_type": "code",
   "execution_count": 23,
   "id": "adfad431",
   "metadata": {},
   "outputs": [
    {
     "data": {
      "text/plain": [
       "tuple"
      ]
     },
     "execution_count": 23,
     "metadata": {},
     "output_type": "execute_result"
    }
   ],
   "source": [
    "p=(1,2,4.5,\"surya\",\"swamy\",True)\n",
    "type(p)"
   ]
  },
  {
   "cell_type": "code",
   "execution_count": 31,
   "id": "8535d61c",
   "metadata": {},
   "outputs": [
    {
     "name": "stdout",
     "output_type": "stream",
     "text": [
      "{'swamy', 1, 2, 4.5, 'surya'}\n",
      "{'swamy', 1, 2, 4.5, 'surya', 30}\n",
      "{'swamy', 1, 2, 4.5, 'surya', 30}\n",
      "{'swamy', 1, 2, 4.5, 'hai', 'surya', 30}\n"
     ]
    }
   ],
   "source": [
    "q={1,2,4.5,\"surya\",\"swamy\",True}\n",
    "print(q)\n",
    "q.add(30)\n",
    "print(q)\n",
    "q.add(2)\n",
    "print(q)\n",
    "q.add(\"hai\")\n",
    "print(q)"
   ]
  },
  {
   "cell_type": "code",
   "execution_count": 27,
   "id": "9f900711",
   "metadata": {},
   "outputs": [
    {
     "data": {
      "text/plain": [
       "{2, 5, 'karthi', 'surya'}"
      ]
     },
     "execution_count": 27,
     "metadata": {},
     "output_type": "execute_result"
    }
   ],
   "source": [
    "s1={2,2,5,5,\"surya\",\"karthi\"}\n",
    "s1  # no duplication of data"
   ]
  },
  {
   "cell_type": "code",
   "execution_count": 32,
   "id": "598c43a3",
   "metadata": {},
   "outputs": [
    {
     "data": {
      "text/plain": [
       "{'payal', 'veera'}"
      ]
     },
     "execution_count": 32,
     "metadata": {},
     "output_type": "execute_result"
    }
   ],
   "source": [
    "s1={\"veera\",\"payal\"}\n",
    "s1"
   ]
  },
  {
   "cell_type": "code",
   "execution_count": 33,
   "id": "0a7a24ff",
   "metadata": {},
   "outputs": [
    {
     "data": {
      "text/plain": [
       "{'payal', 'veera'}"
      ]
     },
     "execution_count": 33,
     "metadata": {},
     "output_type": "execute_result"
    }
   ],
   "source": [
    "s3=s1.copy()\n",
    "s3"
   ]
  },
  {
   "cell_type": "code",
   "execution_count": 35,
   "id": "5bb15693",
   "metadata": {},
   "outputs": [
    {
     "data": {
      "text/plain": [
       "{1, 2, 30, 4.5, 'hai', 'surya', 'swamy'}"
      ]
     },
     "execution_count": 35,
     "metadata": {},
     "output_type": "execute_result"
    }
   ],
   "source": [
    "s3=q.copy()\n",
    "s3"
   ]
  },
  {
   "cell_type": "code",
   "execution_count": 36,
   "id": "396730ee",
   "metadata": {},
   "outputs": [
    {
     "data": {
      "text/plain": [
       "{1, 2, 30, 4.5, 'a', 'hai', 'i', 'k', 'n', 'r', 'surya', 'swamy'}"
      ]
     },
     "execution_count": 36,
     "metadata": {},
     "output_type": "execute_result"
    }
   ],
   "source": [
    "q.update(\"kiran\")\n",
    "q"
   ]
  },
  {
   "cell_type": "code",
   "execution_count": 38,
   "id": "7e4746b3",
   "metadata": {},
   "outputs": [
    {
     "ename": "TypeError",
     "evalue": "'int' object is not iterable",
     "output_type": "error",
     "traceback": [
      "\u001b[1;31m---------------------------------------------------------------------------\u001b[0m",
      "\u001b[1;31mTypeError\u001b[0m                                 Traceback (most recent call last)",
      "\u001b[1;32m<ipython-input-38-97d58c23271e>\u001b[0m in \u001b[0;36m<module>\u001b[1;34m\u001b[0m\n\u001b[1;32m----> 1\u001b[1;33m \u001b[0mq\u001b[0m\u001b[1;33m.\u001b[0m\u001b[0mupdate\u001b[0m\u001b[1;33m(\u001b[0m\u001b[1;36m123\u001b[0m\u001b[1;33m)\u001b[0m\u001b[1;33m\u001b[0m\u001b[1;33m\u001b[0m\u001b[0m\n\u001b[0m\u001b[0;32m      2\u001b[0m \u001b[0mq\u001b[0m\u001b[1;33m\u001b[0m\u001b[1;33m\u001b[0m\u001b[0m\n",
      "\u001b[1;31mTypeError\u001b[0m: 'int' object is not iterable"
     ]
    }
   ],
   "source": [
    "q.update(123)\n",
    "q"
   ]
  },
  {
   "cell_type": "code",
   "execution_count": 39,
   "id": "6e60dd8a",
   "metadata": {},
   "outputs": [
    {
     "data": {
      "text/plain": [
       "{1, 11, 12, 13, 2, 30, 4.5, 'a', 'hai', 'i', 'k', 'n', 'r', 'surya', 'swamy'}"
      ]
     },
     "execution_count": 39,
     "metadata": {},
     "output_type": "execute_result"
    }
   ],
   "source": [
    "q.update([11,12,13]) # grp of values can be added\n",
    "q"
   ]
  },
  {
   "cell_type": "code",
   "execution_count": 41,
   "id": "5697fa7e",
   "metadata": {},
   "outputs": [
    {
     "name": "stdout",
     "output_type": "stream",
     "text": [
      "{'swamy', 1, 2, 99, 4.5, 'n', 100, 101, 'r', 'a', 11, 'hai', 12, 13, 'surya', 'k', 30, 'i'}"
     ]
    }
   ],
   "source": [
    "q.update((99,100,101))\n",
    "print(q,end=\"\")"
   ]
  },
  {
   "cell_type": "code",
   "execution_count": 42,
   "id": "96421435",
   "metadata": {},
   "outputs": [
    {
     "data": {
      "text/plain": [
       "'swamy'"
      ]
     },
     "execution_count": 42,
     "metadata": {},
     "output_type": "execute_result"
    }
   ],
   "source": [
    "q.pop()"
   ]
  },
  {
   "cell_type": "code",
   "execution_count": 43,
   "id": "dbfad41f",
   "metadata": {},
   "outputs": [
    {
     "name": "stdout",
     "output_type": "stream",
     "text": [
      "{1, 2, 99, 4.5, 'n', 100, 101, 'r', 'a', 11, 'hai', 12, 13, 'surya', 'k', 30, 'i'}"
     ]
    }
   ],
   "source": [
    "print(q,end=\"\")"
   ]
  },
  {
   "cell_type": "code",
   "execution_count": 44,
   "id": "5e2b3a1a",
   "metadata": {},
   "outputs": [
    {
     "name": "stdout",
     "output_type": "stream",
     "text": [
      "{1, 2, 99, 4.5, 'n', 100, 101, 'r', 'a', 11, 'hai', 12, 13, 'k', 30, 'i'}"
     ]
    }
   ],
   "source": [
    "q.remove(\"surya\") # element is passed and is removed\n",
    "print(q,end=\"\")"
   ]
  },
  {
   "cell_type": "code",
   "execution_count": 45,
   "id": "cb04272f",
   "metadata": {},
   "outputs": [
    {
     "name": "stdout",
     "output_type": "stream",
     "text": [
      "{1, 2, 99, 4.5, 'n', 100, 'r', 'a', 11, 'hai', 12, 13, 'k', 30, 'i'}"
     ]
    }
   ],
   "source": [
    "q.discard(101) # element is passed and removed but..\n",
    "print(q,end=\"\")"
   ]
  },
  {
   "cell_type": "code",
   "execution_count": 46,
   "id": "ecc3c3f9",
   "metadata": {},
   "outputs": [
    {
     "name": "stdout",
     "output_type": "stream",
     "text": [
      "{1, 2, 99, 4.5, 'n', 100, 'r', 'a', 11, 12, 13, 'k', 30, 'i'}"
     ]
    }
   ],
   "source": [
    "q.discard(\"hai\")\n",
    "print(q,end=\"\")"
   ]
  },
  {
   "cell_type": "code",
   "execution_count": 47,
   "id": "ec58263b",
   "metadata": {},
   "outputs": [],
   "source": [
    "# The remove() method raises an error\n",
    "# when the given element doesn’t exist in the given set.\n",
    "# discard() method doesn’t raise any error\n",
    "# if the given element is not present in the set "
   ]
  },
  {
   "cell_type": "code",
   "execution_count": 48,
   "id": "c033b31e",
   "metadata": {},
   "outputs": [
    {
     "name": "stdout",
     "output_type": "stream",
     "text": [
      "{1, 2, 99, 4.5, 100, 'r', 'a', 11, 12, 13, 'k', 30, 'i'}"
     ]
    }
   ],
   "source": [
    "q.discard(\"n\")\n",
    "print(q,end=\"\")"
   ]
  },
  {
   "cell_type": "code",
   "execution_count": 49,
   "id": "7fb2a85b",
   "metadata": {},
   "outputs": [
    {
     "ename": "KeyError",
     "evalue": "'hai'",
     "output_type": "error",
     "traceback": [
      "\u001b[1;31m---------------------------------------------------------------------------\u001b[0m",
      "\u001b[1;31mKeyError\u001b[0m                                  Traceback (most recent call last)",
      "\u001b[1;32m<ipython-input-49-837a2fc95eff>\u001b[0m in \u001b[0;36m<module>\u001b[1;34m\u001b[0m\n\u001b[1;32m----> 1\u001b[1;33m \u001b[0mq\u001b[0m\u001b[1;33m.\u001b[0m\u001b[0mremove\u001b[0m\u001b[1;33m(\u001b[0m\u001b[1;34m\"hai\"\u001b[0m\u001b[1;33m)\u001b[0m\u001b[1;33m\u001b[0m\u001b[1;33m\u001b[0m\u001b[0m\n\u001b[0m\u001b[0;32m      2\u001b[0m \u001b[0mprint\u001b[0m\u001b[1;33m(\u001b[0m\u001b[0mq\u001b[0m\u001b[1;33m,\u001b[0m\u001b[0mend\u001b[0m\u001b[1;33m=\u001b[0m\u001b[1;34m\"\"\u001b[0m\u001b[1;33m)\u001b[0m\u001b[1;33m\u001b[0m\u001b[1;33m\u001b[0m\u001b[0m\n",
      "\u001b[1;31mKeyError\u001b[0m: 'hai'"
     ]
    }
   ],
   "source": [
    "q.remove(\"hai\")\n",
    "print(q,end=\"\")"
   ]
  },
  {
   "cell_type": "code",
   "execution_count": 50,
   "id": "e8f628e1",
   "metadata": {},
   "outputs": [
    {
     "name": "stdout",
     "output_type": "stream",
     "text": [
      "{1, 99, 4.5, 100, 'r', 'a', 11, 12, 13, 'k', 30, 'i'}"
     ]
    }
   ],
   "source": [
    "q.discard(2)\n",
    "print(q,end=\"\")"
   ]
  },
  {
   "cell_type": "code",
   "execution_count": 52,
   "id": "75ee84f8",
   "metadata": {},
   "outputs": [
    {
     "name": "stdout",
     "output_type": "stream",
     "text": [
      "{1, 99, 4.5, 100, 'r', 'a', 11, 12, 13, 'k', 30, 'i'}"
     ]
    }
   ],
   "source": [
    "q.discard(2)\n",
    "print(q,end=\"\")"
   ]
  },
  {
   "cell_type": "code",
   "execution_count": 53,
   "id": "742bd818",
   "metadata": {},
   "outputs": [],
   "source": [
    "# discard takes exactly one argument only\n",
    "# remove takes exactly one argument only"
   ]
  },
  {
   "cell_type": "code",
   "execution_count": 54,
   "id": "1b9f5fca",
   "metadata": {},
   "outputs": [
    {
     "data": {
      "text/plain": [
       "{1, 2, 4.5, 'chandra', 'lalli'}"
      ]
     },
     "execution_count": 54,
     "metadata": {},
     "output_type": "execute_result"
    }
   ],
   "source": [
    "s={1,2,4.5,\"lalli\",\"chandra\",True}\n",
    "s"
   ]
  },
  {
   "cell_type": "code",
   "execution_count": 55,
   "id": "8a8cf033",
   "metadata": {},
   "outputs": [
    {
     "data": {
      "text/plain": [
       "{1, 2, 4.5, 'Hello prends chai peelo', 'chandra', 'lalli'}"
      ]
     },
     "execution_count": 55,
     "metadata": {},
     "output_type": "execute_result"
    }
   ],
   "source": [
    "s.add(\"Hello prends chai peelo\")\n",
    "s"
   ]
  },
  {
   "cell_type": "code",
   "execution_count": 56,
   "id": "8c7f943d",
   "metadata": {},
   "outputs": [
    {
     "data": {
      "text/plain": [
       "set()"
      ]
     },
     "execution_count": 56,
     "metadata": {},
     "output_type": "execute_result"
    }
   ],
   "source": [
    "s.clear()\n",
    "s"
   ]
  },
  {
   "cell_type": "code",
   "execution_count": 63,
   "id": "312c224c",
   "metadata": {},
   "outputs": [
    {
     "name": "stdout",
     "output_type": "stream",
     "text": [
      "{1, 2, 3, 4}\n",
      "{8, 9, 7}\n",
      "{5, 6}\n",
      "{1, 2, 3, 4, 7, 8, 9}\n",
      "{1, 2, 3, 4}\n",
      "{5, 6, 7, 8, 9}\n"
     ]
    }
   ],
   "source": [
    "a={1,2,3,4,5,6}\n",
    "b={5,6,7,8,9}\n",
    "print(a.difference(b)) # a-b\n",
    "print(b.difference(a)) # b-a\n",
    "print(a.intersection(b))\n",
    "print(a.symmetric_difference(b))\n",
    "a.difference_update(b)\n",
    "print(a)                # (1,2,3,4)=a {updated}\n",
    "b.difference_update(a)  #difference is done and updated\n",
    "print(b)                 # (5,6,7,8,9)-(1,2,3,4)"
   ]
  },
  {
   "cell_type": "code",
   "execution_count": 70,
   "id": "579fd71d",
   "metadata": {},
   "outputs": [
    {
     "name": "stdout",
     "output_type": "stream",
     "text": [
      "{1, 2, 3, 4, 5, 6, 7, 8}\n",
      "{4, 5}\n",
      "{4, 5}\n",
      "{4, 5}\n",
      "{4, 5, 6, 7, 8}\n",
      "{4, 5}\n",
      "\n",
      "{4, 5}\n",
      "{4, 5}\n"
     ]
    }
   ],
   "source": [
    "a={1,2,3,4,5}\n",
    "b={4,5,6,7,8}\n",
    "print(a.union(b)) # no duplication allowed \n",
    "print(a.intersection(b))\n",
    "print(b.intersection(a)) # common elements\n",
    "a.intersection_update(b)\n",
    "print(a)\n",
    "print(b)\n",
    "b.intersection_update(a)\n",
    "print(b)\n",
    "print()\n",
    "print(a)\n",
    "print(b)"
   ]
  },
  {
   "cell_type": "code",
   "execution_count": 73,
   "id": "9183fee2",
   "metadata": {},
   "outputs": [
    {
     "name": "stdout",
     "output_type": "stream",
     "text": [
      "{1, 2, 3, 7, 8}\n",
      "{1, 2, 3, 7, 8}\n",
      "{1, 2, 3, 7, 8}\n"
     ]
    }
   ],
   "source": [
    "a={1,2,3,4,5,6}\n",
    "b={4,5,6,7,8}\n",
    "print(a.symmetric_difference(b))\n",
    "print(b.symmetric_difference(a))\n",
    "a.symmetric_difference_update(b)\n",
    "print(a)"
   ]
  },
  {
   "cell_type": "code",
   "execution_count": 79,
   "id": "f3ebbb4a",
   "metadata": {},
   "outputs": [
    {
     "name": "stdout",
     "output_type": "stream",
     "text": [
      "False\n",
      "False\n",
      "False\n"
     ]
    }
   ],
   "source": [
    "# issubset, issuperset, isdisjoint\n",
    "m={1,2,3,4,5}\n",
    "n={5,6,7}\n",
    "print(m.isdisjoint(n))\n",
    "print(m.issubset(n))\n",
    "print(m.issuperset(n))"
   ]
  },
  {
   "cell_type": "code",
   "execution_count": 78,
   "id": "34c924a7",
   "metadata": {},
   "outputs": [
    {
     "name": "stdout",
     "output_type": "stream",
     "text": [
      "True\n",
      "False\n",
      "False\n"
     ]
    }
   ],
   "source": [
    "a={1,2,3,4,}\n",
    "b={5,6,7}\n",
    "print(a.isdisjoint(b))\n",
    "print(a.issubset(b))\n",
    "print(a.issuperset(b))"
   ]
  },
  {
   "cell_type": "code",
   "execution_count": 82,
   "id": "aa620564",
   "metadata": {},
   "outputs": [
    {
     "name": "stdout",
     "output_type": "stream",
     "text": [
      "False\n",
      "True\n",
      "False\n",
      "False\n",
      "True\n"
     ]
    }
   ],
   "source": [
    "a={1,2,3}\n",
    "b={1,2,3,4,5,6}\n",
    "print(a.isdisjoint(b))\n",
    "print(a.issubset(b))\n",
    "print(b.issubset(a))\n",
    "print(a.issuperset(b))\n",
    "print(b.issuperset(a))"
   ]
  },
  {
   "cell_type": "markdown",
   "id": "cd849c66",
   "metadata": {},
   "source": [
    "# DICTIONARIES\n",
    "* it is collection of multiple data\n",
    "* it is ordered but unindexed( slicing is not possible)\n",
    "* does not allow duplicates\n",
    "* it is represented using { }\n",
    "* data is stored in the form of key and value"
   ]
  },
  {
   "cell_type": "code",
   "execution_count": 83,
   "id": "7c66cf48",
   "metadata": {},
   "outputs": [
    {
     "name": "stdout",
     "output_type": "stream",
     "text": [
      "['__class__', '__contains__', '__delattr__', '__delitem__', '__dir__', '__doc__', '__eq__', '__format__', '__ge__', '__getattribute__', '__getitem__', '__gt__', '__hash__', '__init__', '__init_subclass__', '__iter__', '__le__', '__len__', '__lt__', '__ne__', '__new__', '__reduce__', '__reduce_ex__', '__repr__', '__reversed__', '__setattr__', '__setitem__', '__sizeof__', '__str__', '__subclasshook__', 'clear', 'copy', 'fromkeys', 'get', 'items', 'keys', 'pop', 'popitem', 'setdefault', 'update', 'values']\n"
     ]
    }
   ],
   "source": [
    "print(dir(dict))"
   ]
  },
  {
   "cell_type": "code",
   "execution_count": 84,
   "id": "b8aaa397",
   "metadata": {},
   "outputs": [
    {
     "data": {
      "text/plain": [
       "dict"
      ]
     },
     "execution_count": 84,
     "metadata": {},
     "output_type": "execute_result"
    }
   ],
   "source": [
    "d={}\n",
    "type(d)"
   ]
  },
  {
   "cell_type": "code",
   "execution_count": 16,
   "id": "ced179d4",
   "metadata": {},
   "outputs": [
    {
     "data": {
      "text/plain": [
       "{403: 'sree', 'trainer': 'lalitha', 'student': 'me'}"
      ]
     },
     "execution_count": 16,
     "metadata": {},
     "output_type": "execute_result"
    }
   ],
   "source": [
    "d={\n",
    "    403:\"sree\",\n",
    "    \"trainer\":\"lalitha\",\n",
    "    \"student\":\"me\"}\n",
    "d"
   ]
  },
  {
   "cell_type": "code",
   "execution_count": 17,
   "id": "794ed2b7",
   "metadata": {},
   "outputs": [
    {
     "data": {
      "text/plain": [
       "'sree'"
      ]
     },
     "execution_count": 17,
     "metadata": {},
     "output_type": "execute_result"
    }
   ],
   "source": [
    "d[403]"
   ]
  },
  {
   "cell_type": "code",
   "execution_count": 18,
   "id": "cb3bf651",
   "metadata": {},
   "outputs": [
    {
     "data": {
      "text/plain": [
       "'lalitha'"
      ]
     },
     "execution_count": 18,
     "metadata": {},
     "output_type": "execute_result"
    }
   ],
   "source": [
    "d[\"trainer\"]"
   ]
  },
  {
   "cell_type": "code",
   "execution_count": 19,
   "id": "76e2c8be",
   "metadata": {},
   "outputs": [
    {
     "data": {
      "text/plain": [
       "dict_items([(403, 'sree'), ('trainer', 'lalitha'), ('student', 'me')])"
      ]
     },
     "execution_count": 19,
     "metadata": {},
     "output_type": "execute_result"
    }
   ],
   "source": [
    "d.items()"
   ]
  },
  {
   "cell_type": "code",
   "execution_count": 20,
   "id": "d21c72d1",
   "metadata": {},
   "outputs": [
    {
     "data": {
      "text/plain": [
       "dict_keys([403, 'trainer', 'student'])"
      ]
     },
     "execution_count": 20,
     "metadata": {},
     "output_type": "execute_result"
    }
   ],
   "source": [
    "d.keys()"
   ]
  },
  {
   "cell_type": "code",
   "execution_count": 21,
   "id": "96d9c3e9",
   "metadata": {},
   "outputs": [
    {
     "data": {
      "text/plain": [
       "dict_values(['sree', 'lalitha', 'me'])"
      ]
     },
     "execution_count": 21,
     "metadata": {},
     "output_type": "execute_result"
    }
   ],
   "source": [
    "d.values()"
   ]
  },
  {
   "cell_type": "code",
   "execution_count": 22,
   "id": "c8b0216c",
   "metadata": {},
   "outputs": [
    {
     "name": "stdout",
     "output_type": "stream",
     "text": [
      "sree\n",
      "lalitha\n",
      "me\n"
     ]
    }
   ],
   "source": [
    "for i in d:\n",
    "    print(d[i])"
   ]
  },
  {
   "cell_type": "code",
   "execution_count": 23,
   "id": "e5286405",
   "metadata": {},
   "outputs": [
    {
     "name": "stdout",
     "output_type": "stream",
     "text": [
      "sree\n",
      "lalitha\n",
      "me\n"
     ]
    }
   ],
   "source": [
    "for i in d.keys():\n",
    "    print(d[i])"
   ]
  },
  {
   "cell_type": "code",
   "execution_count": 26,
   "id": "6c6d0326",
   "metadata": {},
   "outputs": [
    {
     "name": "stdout",
     "output_type": "stream",
     "text": [
      "sree\n",
      "lalitha\n",
      "me\n"
     ]
    }
   ],
   "source": [
    "for i in d.values():\n",
    "    print(i)"
   ]
  },
  {
   "cell_type": "code",
   "execution_count": 27,
   "id": "bf5941c1",
   "metadata": {},
   "outputs": [
    {
     "name": "stdout",
     "output_type": "stream",
     "text": [
      "(403, 'sree')\n",
      "('trainer', 'lalitha')\n",
      "('student', 'me')\n"
     ]
    }
   ],
   "source": [
    "for i in d.items():\n",
    "    print(i)"
   ]
  },
  {
   "cell_type": "code",
   "execution_count": 28,
   "id": "5b19820c",
   "metadata": {},
   "outputs": [
    {
     "data": {
      "text/plain": [
       "{'4': None, '0': None, '3': None}"
      ]
     },
     "execution_count": 28,
     "metadata": {},
     "output_type": "execute_result"
    }
   ],
   "source": [
    "x=d.fromkeys(\"403\")\n",
    "x"
   ]
  },
  {
   "cell_type": "code",
   "execution_count": 29,
   "id": "fb58a559",
   "metadata": {},
   "outputs": [
    {
     "data": {
      "text/plain": [
       "{403: 'sree', 'trainer': 'lalitha', 'student': 'me'}"
      ]
     },
     "execution_count": 29,
     "metadata": {},
     "output_type": "execute_result"
    }
   ],
   "source": [
    "d"
   ]
  },
  {
   "cell_type": "code",
   "execution_count": 30,
   "id": "26c06394",
   "metadata": {},
   "outputs": [
    {
     "data": {
      "text/plain": [
       "{'key2': None, 'key1': None, 'key3': None}"
      ]
     },
     "execution_count": 30,
     "metadata": {},
     "output_type": "execute_result"
    }
   ],
   "source": [
    "x={'key1','key2','key3'}\n",
    "z=dict.fromkeys(x)\n",
    "z"
   ]
  },
  {
   "cell_type": "code",
   "execution_count": 31,
   "id": "97a30693",
   "metadata": {},
   "outputs": [
    {
     "data": {
      "text/plain": [
       "{'key1', 'key2', 'key3'}"
      ]
     },
     "execution_count": 31,
     "metadata": {},
     "output_type": "execute_result"
    }
   ],
   "source": [
    "x"
   ]
  },
  {
   "cell_type": "code",
   "execution_count": 33,
   "id": "cec8ad00",
   "metadata": {},
   "outputs": [
    {
     "data": {
      "text/plain": [
       "{'key2': [5, 6, 3], 'key1': [5, 6, 3], 'key3': [5, 6, 3]}"
      ]
     },
     "execution_count": 33,
     "metadata": {},
     "output_type": "execute_result"
    }
   ],
   "source": [
    "x={'key1','key2','key3'}\n",
    "y=[5,6,3]\n",
    "z=dict.fromkeys(x,y)\n",
    "z"
   ]
  },
  {
   "cell_type": "code",
   "execution_count": 34,
   "id": "6782370a",
   "metadata": {},
   "outputs": [
    {
     "data": {
      "text/plain": [
       "{403: 'sree', 'trainer': 'lalitha', 'student': 'me'}"
      ]
     },
     "execution_count": 34,
     "metadata": {},
     "output_type": "execute_result"
    }
   ],
   "source": [
    "d"
   ]
  },
  {
   "cell_type": "code",
   "execution_count": 35,
   "id": "6e7a9d08",
   "metadata": {},
   "outputs": [
    {
     "data": {
      "text/plain": [
       "'sree'"
      ]
     },
     "execution_count": 35,
     "metadata": {},
     "output_type": "execute_result"
    }
   ],
   "source": [
    "d.pop(403) # arguments should be given"
   ]
  },
  {
   "cell_type": "code",
   "execution_count": 36,
   "id": "801fba8e",
   "metadata": {},
   "outputs": [
    {
     "data": {
      "text/plain": [
       "{'trainer': 'lalitha', 'student': 'me'}"
      ]
     },
     "execution_count": 36,
     "metadata": {},
     "output_type": "execute_result"
    }
   ],
   "source": [
    "d"
   ]
  },
  {
   "cell_type": "code",
   "execution_count": 37,
   "id": "50b41ee9",
   "metadata": {},
   "outputs": [
    {
     "data": {
      "text/plain": [
       "('student', 'me')"
      ]
     },
     "execution_count": 37,
     "metadata": {},
     "output_type": "execute_result"
    }
   ],
   "source": [
    "d.popitem() # selects itself, no arguments should be given"
   ]
  },
  {
   "cell_type": "code",
   "execution_count": 38,
   "id": "d4bfea79",
   "metadata": {},
   "outputs": [
    {
     "data": {
      "text/plain": [
       "{'trainer': 'lalitha'}"
      ]
     },
     "execution_count": 38,
     "metadata": {},
     "output_type": "execute_result"
    }
   ],
   "source": [
    "d"
   ]
  },
  {
   "cell_type": "code",
   "execution_count": 39,
   "id": "6ff4073f",
   "metadata": {},
   "outputs": [
    {
     "data": {
      "text/plain": [
       "{'trainer': 'lalitha', 535: None}"
      ]
     },
     "execution_count": 39,
     "metadata": {},
     "output_type": "execute_result"
    }
   ],
   "source": [
    "d.setdefault(535) # entering new data into dictionary\n",
    "d"
   ]
  },
  {
   "cell_type": "code",
   "execution_count": 40,
   "id": "46cbbcb6",
   "metadata": {},
   "outputs": [
    {
     "data": {
      "text/plain": [
       "{'trainer': 'lalitha', 535: None, 'hello': 'hai'}"
      ]
     },
     "execution_count": 40,
     "metadata": {},
     "output_type": "execute_result"
    }
   ],
   "source": [
    "d.setdefault(\"hello\",\"hai\")\n",
    "d"
   ]
  },
  {
   "cell_type": "code",
   "execution_count": 41,
   "id": "2c53d7ac",
   "metadata": {},
   "outputs": [
    {
     "data": {
      "text/plain": [
       "'hai'"
      ]
     },
     "execution_count": 41,
     "metadata": {},
     "output_type": "execute_result"
    }
   ],
   "source": [
    "d[\"hello\"]"
   ]
  },
  {
   "cell_type": "code",
   "execution_count": 42,
   "id": "188a8028",
   "metadata": {},
   "outputs": [
    {
     "data": {
      "text/plain": [
       "{'trainer': 'lalitha', 535: None, 'hello': 'hai'}"
      ]
     },
     "execution_count": 42,
     "metadata": {},
     "output_type": "execute_result"
    }
   ],
   "source": [
    "d"
   ]
  },
  {
   "cell_type": "code",
   "execution_count": 43,
   "id": "2c8b05fc",
   "metadata": {},
   "outputs": [
    {
     "data": {
      "text/plain": [
       "{'key1', 'key2', 'key3'}"
      ]
     },
     "execution_count": 43,
     "metadata": {},
     "output_type": "execute_result"
    }
   ],
   "source": [
    "x"
   ]
  },
  {
   "cell_type": "code",
   "execution_count": 45,
   "id": "7efd9672",
   "metadata": {},
   "outputs": [
    {
     "data": {
      "text/plain": [
       "{'trainer': 'lalitha', 535: None, 'hello': 'hai'}"
      ]
     },
     "execution_count": 45,
     "metadata": {},
     "output_type": "execute_result"
    }
   ],
   "source": [
    "x=d.copy() # d copied to x without the previous x values\n",
    "x"
   ]
  },
  {
   "cell_type": "code",
   "execution_count": 46,
   "id": "5b700983",
   "metadata": {},
   "outputs": [
    {
     "data": {
      "text/plain": [
       "{'trainer': 'lalitha', 535: None, 'hello': 'hai'}"
      ]
     },
     "execution_count": 46,
     "metadata": {},
     "output_type": "execute_result"
    }
   ],
   "source": [
    "d"
   ]
  },
  {
   "cell_type": "code",
   "execution_count": 47,
   "id": "b64852b2",
   "metadata": {},
   "outputs": [
    {
     "data": {
      "text/plain": [
       "{'key2': [5, 6, 3], 'key1': [5, 6, 3], 'key3': [5, 6, 3]}"
      ]
     },
     "execution_count": 47,
     "metadata": {},
     "output_type": "execute_result"
    }
   ],
   "source": [
    "z"
   ]
  },
  {
   "cell_type": "code",
   "execution_count": 48,
   "id": "fdd3c079",
   "metadata": {},
   "outputs": [
    {
     "data": {
      "text/plain": [
       "{'trainer': 'lalitha',\n",
       " 535: None,\n",
       " 'hello': 'hai',\n",
       " 'key2': [5, 6, 3],\n",
       " 'key1': [5, 6, 3],\n",
       " 'key3': [5, 6, 3]}"
      ]
     },
     "execution_count": 48,
     "metadata": {},
     "output_type": "execute_result"
    }
   ],
   "source": [
    "d.update(z) #z is added to d along with previous values \n",
    "d"
   ]
  },
  {
   "cell_type": "code",
   "execution_count": 49,
   "id": "84d17938",
   "metadata": {},
   "outputs": [
    {
     "data": {
      "text/plain": [
       "{'key2': [5, 6, 3], 'key1': [5, 6, 3], 'key3': [5, 6, 3]}"
      ]
     },
     "execution_count": 49,
     "metadata": {},
     "output_type": "execute_result"
    }
   ],
   "source": [
    "z"
   ]
  },
  {
   "cell_type": "code",
   "execution_count": 50,
   "id": "cff50ef3",
   "metadata": {},
   "outputs": [],
   "source": [
    "z.clear()"
   ]
  },
  {
   "cell_type": "code",
   "execution_count": 51,
   "id": "1bfa4555",
   "metadata": {},
   "outputs": [
    {
     "data": {
      "text/plain": [
       "{}"
      ]
     },
     "execution_count": 51,
     "metadata": {},
     "output_type": "execute_result"
    }
   ],
   "source": [
    "z"
   ]
  },
  {
   "cell_type": "markdown",
   "id": "cd87e37e",
   "metadata": {},
   "source": [
    "# contact applications\n",
    "* adding contacts\n",
    "* display list of contacts\n",
    "* search contact\n",
    "* delete contact\n",
    "* modify contact\n",
    "* import contacts (by mail or memory card)"
   ]
  },
  {
   "cell_type": "code",
   "execution_count": 53,
   "id": "f8382bcb",
   "metadata": {},
   "outputs": [
    {
     "name": "stdout",
     "output_type": "stream",
     "text": [
      "contact added successfully\n",
      "contact added successfully\n",
      "contact added successfully\n",
      "contact added successfully\n"
     ]
    }
   ],
   "source": [
    "# adding contact\n",
    "# should not allow duplicate name\n",
    "contacts={}\n",
    "def addcontact(name,phone):\n",
    "    if name not in contacts:\n",
    "        contacts[name]=phone\n",
    "        print(\"contact added successfully\")\n",
    "    else:\n",
    "        print(\"contact already exists\")    \n",
    "addcontact(\"surya\",8464032835) \n",
    "addcontact(\"sree\",9010487593)\n",
    "addcontact(\"lalli\",9867543278)\n",
    "addcontact(\"uha\",9664545678)"
   ]
  },
  {
   "cell_type": "code",
   "execution_count": 54,
   "id": "8d2fbcf2",
   "metadata": {},
   "outputs": [
    {
     "data": {
      "text/plain": [
       "{'surya': 8464032835,\n",
       " 'sree': 9010487593,\n",
       " 'lalli': 9867543278,\n",
       " 'uha': 9664545678}"
      ]
     },
     "execution_count": 54,
     "metadata": {},
     "output_type": "execute_result"
    }
   ],
   "source": [
    "contacts"
   ]
  },
  {
   "cell_type": "code",
   "execution_count": 102,
   "id": "30fb1d98",
   "metadata": {},
   "outputs": [
    {
     "name": "stdout",
     "output_type": "stream",
     "text": [
      "Enter number of contacts to add: 3\n",
      "Enter name and number: Naruto 8758394854\n",
      "contact added successfully\n",
      "Enter name and number: Sasuke 48967043860\n",
      "contact added successfully\n",
      "Enter name and number: Sakura 8758968439\n",
      "contact added successfully\n"
     ]
    }
   ],
   "source": [
    "# adding contact\n",
    "# should not allow duplicate name\n",
    "contacts={}\n",
    "def addcontact(name,phone):\n",
    "    if name not in contacts:\n",
    "        contacts[name]=phone\n",
    "        print(\"contact added successfully\")\n",
    "    else:\n",
    "        print(\"contact already exists\")  \n",
    "        \n",
    "n=int(input(\"Enter number of contacts to add: \"))\n",
    "for i in range (n): # defined till n value_will be executed\n",
    "    li=input(\"Enter name and number: \").split()\n",
    "    b=li[0]\n",
    "    c=li[1]\n",
    "    addcontact(b,c)"
   ]
  },
  {
   "cell_type": "code",
   "execution_count": 103,
   "id": "0af81636",
   "metadata": {},
   "outputs": [
    {
     "name": "stdout",
     "output_type": "stream",
     "text": [
      "Naruto _contact number is: 8758394854\n",
      "Sasuke _contact number is: 48967043860\n",
      "Sakura _contact number is: 8758968439\n"
     ]
    }
   ],
   "source": [
    "def listcontacts(contacts):\n",
    "    for i in contacts:\n",
    "        print(i,\"_contact number is:\",contacts[i])\n",
    "    return\n",
    "listcontacts(contacts)"
   ]
  },
  {
   "cell_type": "code",
   "execution_count": 104,
   "id": "f616df2e",
   "metadata": {},
   "outputs": [
    {
     "data": {
      "text/plain": [
       "{'Naruto': '8758394854', 'Sasuke': '48967043860', 'Sakura': '8758968439'}"
      ]
     },
     "execution_count": 104,
     "metadata": {},
     "output_type": "execute_result"
    }
   ],
   "source": [
    "contacts"
   ]
  },
  {
   "cell_type": "code",
   "execution_count": 105,
   "id": "570f035d",
   "metadata": {},
   "outputs": [
    {
     "name": "stdout",
     "output_type": "stream",
     "text": [
      "Search contact name:Naruto\n",
      "8758394854\n"
     ]
    }
   ],
   "source": [
    "# search a contact\n",
    "def scontact(name):\n",
    "    if name in contacts:\n",
    "        print(contacts[name])\n",
    "    else:\n",
    "        print(\"contact doesnt exist\")\n",
    "        \n",
    "n=input(\"Search contact name:\")\n",
    "scontact(n)        "
   ]
  },
  {
   "cell_type": "code",
   "execution_count": 106,
   "id": "1d700ae1",
   "metadata": {},
   "outputs": [
    {
     "name": "stdout",
     "output_type": "stream",
     "text": [
      "search contact by name:Sakura\n",
      "8758968439\n"
     ]
    }
   ],
   "source": [
    "# search contact\n",
    "def searchcontact(name):\n",
    "    if name in contacts:\n",
    "        print(contacts[name])\n",
    "    else:\n",
    "        print(\"contacts not found\")\n",
    "        \n",
    "n=input(\"search contact by name:\")\n",
    "searchcontact(n)"
   ]
  },
  {
   "cell_type": "code",
   "execution_count": 98,
   "id": "a38442d2",
   "metadata": {},
   "outputs": [
    {
     "data": {
      "text/plain": [
       "{}"
      ]
     },
     "execution_count": 98,
     "metadata": {},
     "output_type": "execute_result"
    }
   ],
   "source": [
    "contacts"
   ]
  },
  {
   "cell_type": "code",
   "execution_count": 107,
   "id": "800f59b8",
   "metadata": {},
   "outputs": [],
   "source": [
    "# delete a contact (hint:pop)"
   ]
  },
  {
   "cell_type": "code",
   "execution_count": 108,
   "id": "1eb539b7",
   "metadata": {},
   "outputs": [],
   "source": [
    "# modify contact"
   ]
  },
  {
   "cell_type": "code",
   "execution_count": 109,
   "id": "10b43ac2",
   "metadata": {},
   "outputs": [
    {
     "data": {
      "text/plain": [
       "{'trainer': 'lalitha',\n",
       " 535: None,\n",
       " 'hello': 'hai',\n",
       " 'key2': [5, 6, 3],\n",
       " 'key1': [5, 6, 3],\n",
       " 'key3': [5, 6, 3]}"
      ]
     },
     "execution_count": 109,
     "metadata": {},
     "output_type": "execute_result"
    }
   ],
   "source": [
    "d"
   ]
  },
  {
   "cell_type": "code",
   "execution_count": 110,
   "id": "b8f5bf78",
   "metadata": {},
   "outputs": [
    {
     "data": {
      "text/plain": [
       "{'Naruto': '8758394854', 'Sasuke': '48967043860', 'Sakura': '8758968439'}"
      ]
     },
     "execution_count": 110,
     "metadata": {},
     "output_type": "execute_result"
    }
   ],
   "source": [
    "contacts"
   ]
  },
  {
   "cell_type": "code",
   "execution_count": 112,
   "id": "e2d4a4b0",
   "metadata": {},
   "outputs": [
    {
     "data": {
      "text/plain": [
       "{'Naruto': '8758394854', 'Sasuke': '9010854568', 'Sakura': '8758968439'}"
      ]
     },
     "execution_count": 112,
     "metadata": {},
     "output_type": "execute_result"
    }
   ],
   "source": [
    "# modify contact\n",
    "contacts[\"Sasuke\"]=\"9010854568\"\n",
    "contacts"
   ]
  },
  {
   "cell_type": "code",
   "execution_count": null,
   "id": "3e6888e3",
   "metadata": {},
   "outputs": [],
   "source": [
    "# import comtacts (hint:uodate)"
   ]
  }
 ],
 "metadata": {
  "kernelspec": {
   "display_name": "Python 3",
   "language": "python",
   "name": "python3"
  },
  "language_info": {
   "codemirror_mode": {
    "name": "ipython",
    "version": 3
   },
   "file_extension": ".py",
   "mimetype": "text/x-python",
   "name": "python",
   "nbconvert_exporter": "python",
   "pygments_lexer": "ipython3",
   "version": "3.8.8"
  }
 },
 "nbformat": 4,
 "nbformat_minor": 5
}
