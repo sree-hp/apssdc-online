{
 "cells": [
  {
   "cell_type": "code",
   "execution_count": 14,
   "id": "7731ccd1",
   "metadata": {},
   "outputs": [
    {
     "name": "stdout",
     "output_type": "stream",
     "text": [
      "enter the number:6\n",
      "its a prime number 6\n"
     ]
    }
   ],
   "source": [
    "# prime number\n",
    "num=int(input(\"enter the number:\"))\n",
    "if num>0:\n",
    "    for i in range (2,num+1):\n",
    "            print(\"its a prime number\",num)\n",
    "            break\n",
    "    else:\n",
    "                print(\"its not prime number\")"
   ]
  },
  {
   "cell_type": "code",
   "execution_count": 17,
   "id": "e63cf5e0",
   "metadata": {},
   "outputs": [
    {
     "name": "stdout",
     "output_type": "stream",
     "text": [
      "enter the numnber123\n",
      "0\n",
      "0\n",
      "0\n"
     ]
    }
   ],
   "source": [
    "# reverse of a number\n",
    "num=int(input(\"enter the numnber\"))\n",
    "rev=0\n",
    "while num>0: # 123>0 123%10=remainder\n",
    "    rember=number%10  # rember=3\n",
    "    rev=rev*10+rember\n",
    "    num=num//10\n",
    "    print(rev)"
   ]
  },
  {
   "cell_type": "code",
   "execution_count": 16,
   "id": "6b40dd78",
   "metadata": {},
   "outputs": [
    {
     "name": "stdout",
     "output_type": "stream",
     "text": [
      "enter the number123\n",
      "321\n"
     ]
    }
   ],
   "source": [
    "number=int(input(\"enter the number\"))\n",
    "rev=0\n",
    "while number>0: # 123>0   123%10=rember\n",
    "    rember=number%10  # rember =3  \n",
    "    rev=rev*10+rember\n",
    "    number=number//10\n",
    "print(rev)"
   ]
  },
  {
   "cell_type": "code",
   "execution_count": 27,
   "id": "6e90bd31",
   "metadata": {},
   "outputs": [
    {
     "name": "stdout",
     "output_type": "stream",
     "text": [
      "0\n",
      "1\n",
      "2\n",
      "3\n",
      "4\n",
      "its pass 5\n",
      "6\n",
      "7\n",
      "8\n",
      "9\n"
     ]
    }
   ],
   "source": [
    "for i in range(10):\n",
    "    if i==5:\n",
    "        print(\"its pass\",i)\n",
    "        pass\n",
    "    else:\n",
    "        print(i)"
   ]
  },
  {
   "cell_type": "code",
   "execution_count": 20,
   "id": "a6eca9d7",
   "metadata": {},
   "outputs": [
    {
     "name": "stdout",
     "output_type": "stream",
     "text": [
      "enter the number5\n",
      "1\n",
      "2\n",
      "6\n",
      "24\n",
      "120\n"
     ]
    }
   ],
   "source": [
    "num=int(input(\"enter the number\"))\n",
    "fact=1\n",
    "for i in range(1,num+1):\n",
    "    fact=fact*i\n",
    "    print(fact)"
   ]
  },
  {
   "cell_type": "code",
   "execution_count": 88,
   "id": "d5f91977",
   "metadata": {},
   "outputs": [
    {
     "name": "stdout",
     "output_type": "stream",
     "text": [
      "Enter a number: 1\n",
      "1 is an Armstrong number\n"
     ]
    }
   ],
   "source": [
    "# armstrong number\n",
    "num = int(input(\"Enter a number: \"))\n",
    "sum = 0\n",
    "temp = num\n",
    "while temp > 0:\n",
    "    digit = temp % 10\n",
    "    sum += digit ** 3\n",
    "    temp //= 10\n",
    "if num == sum:\n",
    "    print(num,\"is an Armstrong number\")\n",
    "else:\n",
    "    print(num,\"is not an Armstrong number\")"
   ]
  },
  {
   "cell_type": "markdown",
   "id": "4d953cea",
   "metadata": {},
   "source": [
    "# nested loops"
   ]
  },
  {
   "cell_type": "code",
   "execution_count": 33,
   "id": "84f3d6fb",
   "metadata": {},
   "outputs": [
    {
     "name": "stdout",
     "output_type": "stream",
     "text": [
      "1\n",
      "12\n",
      "123\n",
      "1234\n",
      "12345\n"
     ]
    }
   ],
   "source": [
    "for i in range(1,5+1):\n",
    "    for k in range(1,i+1):\n",
    "        print(k,end=\"\")\n",
    "    print()"
   ]
  },
  {
   "cell_type": "code",
   "execution_count": 34,
   "id": "9eae181c",
   "metadata": {},
   "outputs": [
    {
     "name": "stdout",
     "output_type": "stream",
     "text": [
      "['False', 'None', 'True', 'and', 'as', 'assert', 'async', 'await', 'break', 'class', 'continue', 'def', 'del', 'elif', 'else', 'except', 'finally', 'for', 'from', 'global', 'if', 'import', 'in', 'is', 'lambda', 'nonlocal', 'not', 'or', 'pass', 'raise', 'return', 'try', 'while', 'with', 'yield']\n"
     ]
    }
   ],
   "source": [
    "import keyword\n",
    "print(keyword.kwlist)"
   ]
  },
  {
   "cell_type": "code",
   "execution_count": 41,
   "id": "47d94050",
   "metadata": {},
   "outputs": [
    {
     "name": "stdout",
     "output_type": "stream",
     "text": [
      "97\n",
      "65\n",
      "90\n",
      "122\n",
      "z\n",
      "H\n",
      "\u0003\n"
     ]
    }
   ],
   "source": [
    "# chr()\n",
    "# ord()\n",
    "print(ord('a'))\n",
    "print(ord('A'))\n",
    "print(ord('Z'))\n",
    "print(ord('z'))\n",
    "print(chr(122))\n",
    "print(chr(72))\n",
    "print(chr(3))"
   ]
  },
  {
   "cell_type": "code",
   "execution_count": 42,
   "id": "58a648ca",
   "metadata": {},
   "outputs": [
    {
     "name": "stdout",
     "output_type": "stream",
     "text": [
      "A,B,C,D,E,F,G,H,I,J,K,L,M,N,O,P,Q,R,S,T,U,V,W,X,Y,Z,"
     ]
    }
   ],
   "source": [
    "for i in range(65,91):\n",
    "    print(chr(i),end=\",\")"
   ]
  },
  {
   "cell_type": "code",
   "execution_count": 44,
   "id": "d5b54e55",
   "metadata": {},
   "outputs": [
    {
     "name": "stdout",
     "output_type": "stream",
     "text": [
      "a,b,c,d,e,f,g,h,i,j,k,l,m,n,o,p,q,r,s,t,u,v,w,x,y,z,"
     ]
    }
   ],
   "source": [
    "for i in range(97,122+1):\n",
    "    print(chr(i),end=\",\")"
   ]
  },
  {
   "cell_type": "code",
   "execution_count": 50,
   "id": "ea2a6ea9",
   "metadata": {},
   "outputs": [
    {
     "name": "stdout",
     "output_type": "stream",
     "text": [
      "Z,Y,X,W,V,U,T,S,R,Q,P,O,N,M,L,K,J,I,H,G,F,E,D,C,B,A,"
     ]
    }
   ],
   "source": [
    "for i in range(90,64,-1):\n",
    "    print(chr(i),end=\",\")"
   ]
  },
  {
   "cell_type": "code",
   "execution_count": 52,
   "id": "6358bef5",
   "metadata": {},
   "outputs": [
    {
     "name": "stdout",
     "output_type": "stream",
     "text": [
      "z,y,x,w,v,u,t,s,r,q,p,o,n,m,l,k,j,i,h,g,f,e,d,c,b,a,"
     ]
    }
   ],
   "source": [
    "for i in range(122,96,-1):\n",
    "    print(chr(i),end=\",\")"
   ]
  },
  {
   "cell_type": "code",
   "execution_count": 63,
   "id": "9fdb46d8",
   "metadata": {},
   "outputs": [
    {
     "name": "stdout",
     "output_type": "stream",
     "text": [
      "A\n",
      "AB\n",
      "ABC\n",
      "ABCD\n",
      "ABCDE\n"
     ]
    }
   ],
   "source": [
    "for i in range(65,70):\n",
    "    for k in range(65,i+1):\n",
    "        print(chr(k),end=\"\")\n",
    "    print()    "
   ]
  },
  {
   "cell_type": "code",
   "execution_count": 69,
   "id": "2d1c997d",
   "metadata": {},
   "outputs": [
    {
     "name": "stdout",
     "output_type": "stream",
     "text": [
      "E\n",
      "ED\n",
      "EDC\n",
      "EDCB\n",
      "EDCBA\n"
     ]
    }
   ],
   "source": [
    "for i in range(69,64,-1):\n",
    "    for k in range(69,i-1,-1):\n",
    "        print(chr(k),end=\"\")\n",
    "    print()  "
   ]
  },
  {
   "cell_type": "code",
   "execution_count": 75,
   "id": "2312d003",
   "metadata": {},
   "outputs": [
    {
     "name": "stdout",
     "output_type": "stream",
     "text": [
      "A\n",
      "BB\n",
      "CCC\n",
      "DDDD\n",
      "EEEEE\n"
     ]
    }
   ],
   "source": [
    "for i in range(65,70):\n",
    "    for k in range(65,i+1):\n",
    "        print(chr(i),end=\"\")\n",
    "    print()"
   ]
  },
  {
   "cell_type": "code",
   "execution_count": 78,
   "id": "7aac777f",
   "metadata": {},
   "outputs": [
    {
     "name": "stdout",
     "output_type": "stream",
     "text": [
      "ABCDEF\n",
      "ABCDE\n",
      "ABCD\n",
      "ABC\n",
      "AB\n",
      "A\n"
     ]
    }
   ],
   "source": [
    "for i in range(70,64,-1):\n",
    "    for k in range(65,i+1):\n",
    "        print(chr(k),end=\"\")\n",
    "    print()"
   ]
  },
  {
   "cell_type": "code",
   "execution_count": 80,
   "id": "e9b02f35",
   "metadata": {},
   "outputs": [
    {
     "name": "stdout",
     "output_type": "stream",
     "text": [
      "FFFFFF\n",
      "EEEEE\n",
      "DDDD\n",
      "CCC\n",
      "BB\n",
      "A\n"
     ]
    }
   ],
   "source": [
    "for i in range(70,64,-1):\n",
    "    for k in range(65,i+1):\n",
    "        print(chr(i),end=\"\")\n",
    "    print()"
   ]
  },
  {
   "cell_type": "code",
   "execution_count": 82,
   "id": "81d15d08",
   "metadata": {},
   "outputs": [
    {
     "name": "stdout",
     "output_type": "stream",
     "text": [
      "ABCDEF70\n",
      "ABCDE69\n",
      "ABCD68\n",
      "ABC67\n",
      "AB66\n",
      "A65\n"
     ]
    }
   ],
   "source": [
    "for i in range(70,64,-1):\n",
    "    for k in range(65,i+1):\n",
    "        print(chr(k),end=\"\")\n",
    "    print(i)"
   ]
  },
  {
   "cell_type": "code",
   "execution_count": 4,
   "id": "8116e48d",
   "metadata": {},
   "outputs": [
    {
     "name": "stdout",
     "output_type": "stream",
     "text": [
      "enter the number370\n",
      "Armstrong number\n"
     ]
    }
   ],
   "source": [
    "# armstrong number\n",
    "number=int(input(\"enter the number\"))\n",
    "sum=0\n",
    "check=number\n",
    "while number>0:\n",
    "    rem=number%10\n",
    "    sum=sum+rem**3\n",
    "    number=number//10\n",
    "if check==sum:\n",
    "    print(\"Armstrong number\")\n",
    "else:\n",
    "    print(\"not armstrong number\")"
   ]
  },
  {
   "cell_type": "code",
   "execution_count": 5,
   "id": "af49a832",
   "metadata": {},
   "outputs": [
    {
     "name": "stdout",
     "output_type": "stream",
     "text": [
      "v,i,g,n,a,n, ,w,o,m,e,n,',s, ,"
     ]
    }
   ],
   "source": [
    "st=\"vignan women's \"\n",
    "for i in st:\n",
    "    print(i, end=\",\")"
   ]
  },
  {
   "cell_type": "code",
   "execution_count": 9,
   "id": "5a23d52b",
   "metadata": {},
   "outputs": [
    {
     "name": "stdout",
     "output_type": "stream",
     "text": [
      "5\n",
      "h\n",
      "o\n",
      "l\n",
      "e\n",
      "h\n",
      "o\n"
     ]
    }
   ],
   "source": [
    "vg=\"hello\"\n",
    "print(len(vg))\n",
    "print(vg[0])\n",
    "print(vg[4])\n",
    "print(vg[-3])\n",
    "print(vg[-4])\n",
    "print(vg[-5])\n",
    "print(vg[-1])"
   ]
  },
  {
   "cell_type": "code",
   "execution_count": 15,
   "id": "4ba24aaa",
   "metadata": {},
   "outputs": [
    {
     "name": "stdout",
     "output_type": "stream",
     "text": [
      "18\n",
      "dvd egelloc nangiv\n",
      "an c\n"
     ]
    }
   ],
   "source": [
    "vgl=\"vignan college dvd\"\n",
    "print(len(vgl))\n",
    "print(vgl[::-1])\n",
    "print(vgl[4:8:])"
   ]
  },
  {
   "cell_type": "code",
   "execution_count": 19,
   "id": "b920971d",
   "metadata": {},
   "outputs": [
    {
     "name": "stdout",
     "output_type": "stream",
     "text": [
      "12\n",
      "morning\n"
     ]
    }
   ],
   "source": [
    "vgl2=\"good morning\"\n",
    "print(len(vgl2))\n",
    "print(vgl2[5::])"
   ]
  },
  {
   "cell_type": "code",
   "execution_count": 26,
   "id": "6562ee83",
   "metadata": {},
   "outputs": [
    {
     "name": "stdout",
     "output_type": "stream",
     "text": [
      "43\n",
      "Vga' nttt fegneigfrwmn\n",
      "nmwrfgiengef tttn 'agV\n",
      "nemow rof gnireenigne fo etutitsni s'nangiV\n",
      "nor ieg  uti'nV\n"
     ]
    }
   ],
   "source": [
    "# string slicing or indexing\n",
    "vgs=\"Vignan's institute of engineering for women\"\n",
    "print(len(vgs))\n",
    "print(vgs[::2])\n",
    "print(vgs[::-2])\n",
    "print(vgs[::-1])\n",
    "print(vgs[::-3])"
   ]
  },
  {
   "cell_type": "code",
   "execution_count": 28,
   "id": "c492bdd8",
   "metadata": {},
   "outputs": [
    {
     "name": "stdout",
     "output_type": "stream",
     "text": [
      "['__add__', '__class__', '__contains__', '__delattr__', '__dir__', '__doc__', '__eq__', '__format__', '__ge__', '__getattribute__', '__getitem__', '__getnewargs__', '__gt__', '__hash__', '__init__', '__init_subclass__', '__iter__', '__le__', '__len__', '__lt__', '__mod__', '__mul__', '__ne__', '__new__', '__reduce__', '__reduce_ex__', '__repr__', '__rmod__', '__rmul__', '__setattr__', '__sizeof__', '__str__', '__subclasshook__', 'capitalize', 'casefold', 'center', 'count', 'encode', 'endswith', 'expandtabs', 'find', 'format', 'format_map', 'index', 'isalnum', 'isalpha', 'isascii', 'isdecimal', 'isdigit', 'isidentifier', 'islower', 'isnumeric', 'isprintable', 'isspace', 'istitle', 'isupper', 'join', 'ljust', 'lower', 'lstrip', 'maketrans', 'partition', 'replace', 'rfind', 'rindex', 'rjust', 'rpartition', 'rsplit', 'rstrip', 'split', 'splitlines', 'startswith', 'strip', 'swapcase', 'title', 'translate', 'upper', 'zfill']\n"
     ]
    }
   ],
   "source": [
    "print(dir(str)) # directory of string( pre defined '_classes_' and 'functions')"
   ]
  },
  {
   "cell_type": "code",
   "execution_count": 29,
   "id": "1efc8fdb",
   "metadata": {},
   "outputs": [
    {
     "name": "stdout",
     "output_type": "stream",
     "text": [
      "['__add__', '__class__', '__contains__', '__delattr__', '__dir__', '__doc__', '__eq__', '__format__', '__ge__', '__getattribute__', '__getitem__', '__getnewargs__', '__gt__', '__hash__', '__init__', '__init_subclass__', '__iter__', '__le__', '__len__', '__lt__', '__mod__', '__mul__', '__ne__', '__new__', '__reduce__', '__reduce_ex__', '__repr__', '__rmod__', '__rmul__', '__setattr__', '__sizeof__', '__str__', '__subclasshook__', 'capitalize', 'casefold', 'center', 'count', 'encode', 'endswith', 'expandtabs', 'find', 'format', 'format_map', 'index', 'isalnum', 'isalpha', 'isascii', 'isdecimal', 'isdigit', 'isidentifier', 'islower', 'isnumeric', 'isprintable', 'isspace', 'istitle', 'isupper', 'join', 'ljust', 'lower', 'lstrip', 'maketrans', 'partition', 'replace', 'rfind', 'rindex', 'rjust', 'rpartition', 'rsplit', 'rstrip', 'split', 'splitlines', 'startswith', 'strip', 'swapcase', 'title', 'translate', 'upper', 'zfill']\n"
     ]
    }
   ],
   "source": [
    "print(dir(vgs)) # second way"
   ]
  },
  {
   "cell_type": "code",
   "execution_count": 69,
   "id": "849f2758",
   "metadata": {},
   "outputs": [
    {
     "name": "stdout",
     "output_type": "stream",
     "text": [
      "43\n",
      "4\n",
      "True\n",
      "False\n",
      "-1\n",
      "22\n",
      "False\n",
      "False\n",
      "False\n",
      "False\n",
      "False\n",
      "Vignan's institute of engineering for women\n",
      "   Vignan's Institute of Engineering for Women    \n",
      "vignan's institute of engineering for women\n",
      "VIGNAN'S INSTITUTE OF ENGINEERING FOR WOMEN\n",
      "vIGNAN'S iNSTITUTE OF eNGINEERING FOR wOMEN\n",
      "Vignan'S Institute Of Engineering For Women\n"
     ]
    }
   ],
   "source": [
    "vg1=\"Vignan's Institute of Engineering for Women\"\n",
    "print(len(vg1))\n",
    "print(vg1.count('e'))\n",
    "print(vg1.endswith('n'))\n",
    "print(vg1.endswith('e'))\n",
    "print(vg1.find('k')) # if value is not in string it will result-> -1\n",
    "print(vg1.index('E')) # if value is not in string it will result-> value error\n",
    "print(vg1.isalnum())\n",
    "print(vg1.isalpha())\n",
    "print(vg1.isdigit())\n",
    "print(vg1.isupper())\n",
    "print(vg1.islower())\n",
    "print(vg1.capitalize())\n",
    "print(vg1.center(50))\n",
    "print(vg1.lower())\n",
    "print(vg1.upper())\n",
    "print(vg1.swapcase())\n",
    "print(vg1.title())"
   ]
  },
  {
   "cell_type": "code",
   "execution_count": 58,
   "id": "75901a2f",
   "metadata": {},
   "outputs": [
    {
     "name": "stdout",
     "output_type": "stream",
     "text": [
      "True\n",
      "False\n",
      "True\n"
     ]
    }
   ],
   "source": [
    "vgg=\"123\"\n",
    "print(vgg.isalnum()) # alphabets and numbers\n",
    "print(vgg.isalpha()) # alphabets\n",
    "print(vgg.isdigit()) # numbers"
   ]
  },
  {
   "cell_type": "code",
   "execution_count": 64,
   "id": "6de36e76",
   "metadata": {},
   "outputs": [
    {
     "name": "stdout",
     "output_type": "stream",
     "text": [
      "True\n",
      "Hello\n",
      "                      hello                       \n"
     ]
    }
   ],
   "source": [
    "vc=\"hello\"\n",
    "print(vc.isalpha())\n",
    "print(vc.capitalize())\n",
    "print(vc.center(50))"
   ]
  },
  {
   "cell_type": "code",
   "execution_count": null,
   "id": "835cc19b",
   "metadata": {},
   "outputs": [],
   "source": [
    "# islower,isupper,lower,upper,swapcase"
   ]
  }
 ],
 "metadata": {
  "kernelspec": {
   "display_name": "Python 3",
   "language": "python",
   "name": "python3"
  },
  "language_info": {
   "codemirror_mode": {
    "name": "ipython",
    "version": 3
   },
   "file_extension": ".py",
   "mimetype": "text/x-python",
   "name": "python",
   "nbconvert_exporter": "python",
   "pygments_lexer": "ipython3",
   "version": "3.8.8"
  }
 },
 "nbformat": 4,
 "nbformat_minor": 5
}
